{
 "cells": [
  {
   "cell_type": "markdown",
   "id": "6b675327",
   "metadata": {},
   "source": [
    "# Assignment 2 \n",
    "# Introduction to Python for Data Science Kampus Merdeka\n",
    "***\n",
    "**Nama : Tasya Fathia Putriansyah**\n",
    "\n",
    "**Kode Peserta : PYTN-KS07-018**"
   ]
  },
  {
   "cell_type": "markdown",
   "id": "d71c493f",
   "metadata": {},
   "source": [
    "## Project Overview"
   ]
  },
  {
   "cell_type": "markdown",
   "id": "02c31da6",
   "metadata": {},
   "source": [
    "Using what you’ve learned; download the NYC Property Sales Dataset from Kaggle. This dataset is a record of every building or building unit (apartment, etc.) sold in the New York City property market over a 12-month period.\n",
    "\n",
    "This dataset contains the location, address, type, sale price, and sale date of building units sold. A reference on the trickier fields:\n",
    "\n",
    "* `BOROUGH `: A digit code for the borough the property is located in; in order these are Manhattan (1), Bronx (2), Brooklyn (3), Queens (4), and Staten Island (5).\n",
    "* `BLOCK`; `LOT`: The combination of borough, block, and lot forms a unique key for property in New York City. Commonly called a BBL.\n",
    "* `BUILDING CLASS AT PRESENT` and `BUILDING CLASS AT TIME OF SALE` : The type of building at various points in time.\n",
    "\n",
    "Note that because this is a financial transaction dataset, there are some points that need to be kept in mind:\n",
    "\n",
    "* Many sales occur with a nonsensically small dollar amount: $0 most commonly. These sales are actually transfers of deeds between parties: for example, parents transferring ownership to their home to a child after moving out for retirement.\n",
    "* This dataset uses the financial definition of a building/building unit, for tax purposes. In case a single entity owns the building in question, a sale covers the value of the entire building. In case a building is owned piecemeal by its residents (a condominium), a sale refers to a single apartment (or group of apartments) owned by some individual."
   ]
  },
  {
   "cell_type": "markdown",
   "id": "87959969",
   "metadata": {},
   "source": [
    "# Data Preparation\n",
    "Import Library and Dataset you need."
   ]
  },
  {
   "cell_type": "code",
   "execution_count": 1,
   "id": "bd01cbe7",
   "metadata": {},
   "outputs": [],
   "source": [
    "# To get import statement \n",
    "import math\n",
    "import statistics\n",
    "import numpy as np\n",
    "import pandas as pd\n",
    "import seaborn as sns\n",
    "import statsmodels.api as sm"
   ]
  },
  {
   "cell_type": "markdown",
   "id": "4bb818a4",
   "metadata": {},
   "source": [
    "**Numpy**\n",
    "NumPy (Python Numerik) adalah ekstensi open source dari Python Numerical komputasi. Alat ini dapat digunakan untuk menyimpan dan memproses matriks besar. Numpy jauh lebih efisien daripada struktur nested list Python sendiri. NumPy mendukung operasi array dan matriks beberapa dimensi. Selain itu juga menyediakan sejumlah besar perpustakaan matematika untuk operasi array Dan digunakan di hampir setiap bidang sains dan teknik.\n",
    "\n",
    "**Pandas**\n",
    "Pandas adalah tools analisis dan manipulasi data open source yang cepat, powerful, fleksibel, dan mudah digunakan, pandas dibuat pemrograman Python. Pandas menawarkan struktur data dan banyak operasi untuk memanipulasi data. Pandas memungkinkan banyak operasi manipulasi data seperti penggabungan, pembentukan kembali, pembersihan dan fitur perselisihan data.\n",
    "\n",
    "**Seaborn**\n",
    "Seaborn adalah library untuk visualisasi data yang dibangun di atas matplotlib. Seaborn memiliki lebih banyak fungsi untuk visualisasi data dan lebih mudah digunakan.\n",
    "\n",
    "**Statsmodel**\n",
    "Statsmodels adalah paket python model statistik yang menyediakan banyak kelas untuk mengembangkan model statistik. Paket statsmodel adalah bagian dari modul Scipy, tetapi paket statsmodel saat ini dikembangkan secara terpisah."
   ]
  },
  {
   "cell_type": "code",
   "execution_count": 2,
   "id": "8b5a1111",
   "metadata": {
    "scrolled": true
   },
   "outputs": [
    {
     "name": "stdout",
     "output_type": "stream",
     "text": [
      "Data read into a pandas dataframe\n"
     ]
    }
   ],
   "source": [
    "# Load the dataset\n",
    "df = pd.read_csv('dataset/nyc-rolling-sales.csv')\n",
    "print('Data read into a pandas dataframe')"
   ]
  },
  {
   "cell_type": "markdown",
   "id": "60e65b7f",
   "metadata": {},
   "source": [
    "Let's view the top 5 rows of the dataset using the `head()` function."
   ]
  },
  {
   "cell_type": "code",
   "execution_count": 3,
   "id": "6fd83599",
   "metadata": {},
   "outputs": [
    {
     "data": {
      "text/html": [
       "<div>\n",
       "<style scoped>\n",
       "    .dataframe tbody tr th:only-of-type {\n",
       "        vertical-align: middle;\n",
       "    }\n",
       "\n",
       "    .dataframe tbody tr th {\n",
       "        vertical-align: top;\n",
       "    }\n",
       "\n",
       "    .dataframe thead th {\n",
       "        text-align: right;\n",
       "    }\n",
       "</style>\n",
       "<table border=\"1\" class=\"dataframe\">\n",
       "  <thead>\n",
       "    <tr style=\"text-align: right;\">\n",
       "      <th></th>\n",
       "      <th>Unnamed: 0</th>\n",
       "      <th>BOROUGH</th>\n",
       "      <th>NEIGHBORHOOD</th>\n",
       "      <th>BUILDING CLASS CATEGORY</th>\n",
       "      <th>TAX CLASS AT PRESENT</th>\n",
       "      <th>BLOCK</th>\n",
       "      <th>LOT</th>\n",
       "      <th>EASE-MENT</th>\n",
       "      <th>BUILDING CLASS AT PRESENT</th>\n",
       "      <th>ADDRESS</th>\n",
       "      <th>...</th>\n",
       "      <th>RESIDENTIAL UNITS</th>\n",
       "      <th>COMMERCIAL UNITS</th>\n",
       "      <th>TOTAL UNITS</th>\n",
       "      <th>LAND SQUARE FEET</th>\n",
       "      <th>GROSS SQUARE FEET</th>\n",
       "      <th>YEAR BUILT</th>\n",
       "      <th>TAX CLASS AT TIME OF SALE</th>\n",
       "      <th>BUILDING CLASS AT TIME OF SALE</th>\n",
       "      <th>SALE PRICE</th>\n",
       "      <th>SALE DATE</th>\n",
       "    </tr>\n",
       "  </thead>\n",
       "  <tbody>\n",
       "    <tr>\n",
       "      <th>0</th>\n",
       "      <td>4</td>\n",
       "      <td>1</td>\n",
       "      <td>ALPHABET CITY</td>\n",
       "      <td>07 RENTALS - WALKUP APARTMENTS</td>\n",
       "      <td>2A</td>\n",
       "      <td>392</td>\n",
       "      <td>6</td>\n",
       "      <td></td>\n",
       "      <td>C2</td>\n",
       "      <td>153 AVENUE B</td>\n",
       "      <td>...</td>\n",
       "      <td>5</td>\n",
       "      <td>0</td>\n",
       "      <td>5</td>\n",
       "      <td>1633</td>\n",
       "      <td>6440</td>\n",
       "      <td>1900</td>\n",
       "      <td>2</td>\n",
       "      <td>C2</td>\n",
       "      <td>6625000</td>\n",
       "      <td>2017-07-19 00:00:00</td>\n",
       "    </tr>\n",
       "    <tr>\n",
       "      <th>1</th>\n",
       "      <td>5</td>\n",
       "      <td>1</td>\n",
       "      <td>ALPHABET CITY</td>\n",
       "      <td>07 RENTALS - WALKUP APARTMENTS</td>\n",
       "      <td>2</td>\n",
       "      <td>399</td>\n",
       "      <td>26</td>\n",
       "      <td></td>\n",
       "      <td>C7</td>\n",
       "      <td>234 EAST 4TH   STREET</td>\n",
       "      <td>...</td>\n",
       "      <td>28</td>\n",
       "      <td>3</td>\n",
       "      <td>31</td>\n",
       "      <td>4616</td>\n",
       "      <td>18690</td>\n",
       "      <td>1900</td>\n",
       "      <td>2</td>\n",
       "      <td>C7</td>\n",
       "      <td>-</td>\n",
       "      <td>2016-12-14 00:00:00</td>\n",
       "    </tr>\n",
       "    <tr>\n",
       "      <th>2</th>\n",
       "      <td>6</td>\n",
       "      <td>1</td>\n",
       "      <td>ALPHABET CITY</td>\n",
       "      <td>07 RENTALS - WALKUP APARTMENTS</td>\n",
       "      <td>2</td>\n",
       "      <td>399</td>\n",
       "      <td>39</td>\n",
       "      <td></td>\n",
       "      <td>C7</td>\n",
       "      <td>197 EAST 3RD   STREET</td>\n",
       "      <td>...</td>\n",
       "      <td>16</td>\n",
       "      <td>1</td>\n",
       "      <td>17</td>\n",
       "      <td>2212</td>\n",
       "      <td>7803</td>\n",
       "      <td>1900</td>\n",
       "      <td>2</td>\n",
       "      <td>C7</td>\n",
       "      <td>-</td>\n",
       "      <td>2016-12-09 00:00:00</td>\n",
       "    </tr>\n",
       "    <tr>\n",
       "      <th>3</th>\n",
       "      <td>7</td>\n",
       "      <td>1</td>\n",
       "      <td>ALPHABET CITY</td>\n",
       "      <td>07 RENTALS - WALKUP APARTMENTS</td>\n",
       "      <td>2B</td>\n",
       "      <td>402</td>\n",
       "      <td>21</td>\n",
       "      <td></td>\n",
       "      <td>C4</td>\n",
       "      <td>154 EAST 7TH STREET</td>\n",
       "      <td>...</td>\n",
       "      <td>10</td>\n",
       "      <td>0</td>\n",
       "      <td>10</td>\n",
       "      <td>2272</td>\n",
       "      <td>6794</td>\n",
       "      <td>1913</td>\n",
       "      <td>2</td>\n",
       "      <td>C4</td>\n",
       "      <td>3936272</td>\n",
       "      <td>2016-09-23 00:00:00</td>\n",
       "    </tr>\n",
       "    <tr>\n",
       "      <th>4</th>\n",
       "      <td>8</td>\n",
       "      <td>1</td>\n",
       "      <td>ALPHABET CITY</td>\n",
       "      <td>07 RENTALS - WALKUP APARTMENTS</td>\n",
       "      <td>2A</td>\n",
       "      <td>404</td>\n",
       "      <td>55</td>\n",
       "      <td></td>\n",
       "      <td>C2</td>\n",
       "      <td>301 EAST 10TH   STREET</td>\n",
       "      <td>...</td>\n",
       "      <td>6</td>\n",
       "      <td>0</td>\n",
       "      <td>6</td>\n",
       "      <td>2369</td>\n",
       "      <td>4615</td>\n",
       "      <td>1900</td>\n",
       "      <td>2</td>\n",
       "      <td>C2</td>\n",
       "      <td>8000000</td>\n",
       "      <td>2016-11-17 00:00:00</td>\n",
       "    </tr>\n",
       "  </tbody>\n",
       "</table>\n",
       "<p>5 rows × 22 columns</p>\n",
       "</div>"
      ],
      "text/plain": [
       "   Unnamed: 0  BOROUGH   NEIGHBORHOOD  \\\n",
       "0           4        1  ALPHABET CITY   \n",
       "1           5        1  ALPHABET CITY   \n",
       "2           6        1  ALPHABET CITY   \n",
       "3           7        1  ALPHABET CITY   \n",
       "4           8        1  ALPHABET CITY   \n",
       "\n",
       "                       BUILDING CLASS CATEGORY TAX CLASS AT PRESENT  BLOCK  \\\n",
       "0  07 RENTALS - WALKUP APARTMENTS                                2A    392   \n",
       "1  07 RENTALS - WALKUP APARTMENTS                                 2    399   \n",
       "2  07 RENTALS - WALKUP APARTMENTS                                 2    399   \n",
       "3  07 RENTALS - WALKUP APARTMENTS                                2B    402   \n",
       "4  07 RENTALS - WALKUP APARTMENTS                                2A    404   \n",
       "\n",
       "   LOT EASE-MENT BUILDING CLASS AT PRESENT                 ADDRESS  ...  \\\n",
       "0    6                                  C2            153 AVENUE B  ...   \n",
       "1   26                                  C7   234 EAST 4TH   STREET  ...   \n",
       "2   39                                  C7   197 EAST 3RD   STREET  ...   \n",
       "3   21                                  C4     154 EAST 7TH STREET  ...   \n",
       "4   55                                  C2  301 EAST 10TH   STREET  ...   \n",
       "\n",
       "  RESIDENTIAL UNITS  COMMERCIAL UNITS  TOTAL UNITS  LAND SQUARE FEET  \\\n",
       "0                 5                 0            5              1633   \n",
       "1                28                 3           31              4616   \n",
       "2                16                 1           17              2212   \n",
       "3                10                 0           10              2272   \n",
       "4                 6                 0            6              2369   \n",
       "\n",
       "   GROSS SQUARE FEET YEAR BUILT TAX CLASS AT TIME OF SALE  \\\n",
       "0               6440       1900                         2   \n",
       "1              18690       1900                         2   \n",
       "2               7803       1900                         2   \n",
       "3               6794       1913                         2   \n",
       "4               4615       1900                         2   \n",
       "\n",
       "   BUILDING CLASS AT TIME OF SALE  SALE PRICE            SALE DATE  \n",
       "0                              C2     6625000  2017-07-19 00:00:00  \n",
       "1                              C7         -    2016-12-14 00:00:00  \n",
       "2                              C7         -    2016-12-09 00:00:00  \n",
       "3                              C4     3936272  2016-09-23 00:00:00  \n",
       "4                              C2     8000000  2016-11-17 00:00:00  \n",
       "\n",
       "[5 rows x 22 columns]"
      ]
     },
     "execution_count": 3,
     "metadata": {},
     "output_type": "execute_result"
    }
   ],
   "source": [
    "# Exploring dataset\n",
    "df.head()"
   ]
  },
  {
   "cell_type": "markdown",
   "id": "371c8aae",
   "metadata": {},
   "source": [
    "We can also view the bottom 5 rows of the dataset using the `tail()` function."
   ]
  },
  {
   "cell_type": "code",
   "execution_count": 4,
   "id": "ea84d0f0",
   "metadata": {},
   "outputs": [
    {
     "data": {
      "text/html": [
       "<div>\n",
       "<style scoped>\n",
       "    .dataframe tbody tr th:only-of-type {\n",
       "        vertical-align: middle;\n",
       "    }\n",
       "\n",
       "    .dataframe tbody tr th {\n",
       "        vertical-align: top;\n",
       "    }\n",
       "\n",
       "    .dataframe thead th {\n",
       "        text-align: right;\n",
       "    }\n",
       "</style>\n",
       "<table border=\"1\" class=\"dataframe\">\n",
       "  <thead>\n",
       "    <tr style=\"text-align: right;\">\n",
       "      <th></th>\n",
       "      <th>Unnamed: 0</th>\n",
       "      <th>BOROUGH</th>\n",
       "      <th>NEIGHBORHOOD</th>\n",
       "      <th>BUILDING CLASS CATEGORY</th>\n",
       "      <th>TAX CLASS AT PRESENT</th>\n",
       "      <th>BLOCK</th>\n",
       "      <th>LOT</th>\n",
       "      <th>EASE-MENT</th>\n",
       "      <th>BUILDING CLASS AT PRESENT</th>\n",
       "      <th>ADDRESS</th>\n",
       "      <th>...</th>\n",
       "      <th>RESIDENTIAL UNITS</th>\n",
       "      <th>COMMERCIAL UNITS</th>\n",
       "      <th>TOTAL UNITS</th>\n",
       "      <th>LAND SQUARE FEET</th>\n",
       "      <th>GROSS SQUARE FEET</th>\n",
       "      <th>YEAR BUILT</th>\n",
       "      <th>TAX CLASS AT TIME OF SALE</th>\n",
       "      <th>BUILDING CLASS AT TIME OF SALE</th>\n",
       "      <th>SALE PRICE</th>\n",
       "      <th>SALE DATE</th>\n",
       "    </tr>\n",
       "  </thead>\n",
       "  <tbody>\n",
       "    <tr>\n",
       "      <th>84543</th>\n",
       "      <td>8409</td>\n",
       "      <td>5</td>\n",
       "      <td>WOODROW</td>\n",
       "      <td>02 TWO FAMILY DWELLINGS</td>\n",
       "      <td>1</td>\n",
       "      <td>7349</td>\n",
       "      <td>34</td>\n",
       "      <td></td>\n",
       "      <td>B9</td>\n",
       "      <td>37 QUAIL LANE</td>\n",
       "      <td>...</td>\n",
       "      <td>2</td>\n",
       "      <td>0</td>\n",
       "      <td>2</td>\n",
       "      <td>2400</td>\n",
       "      <td>2575</td>\n",
       "      <td>1998</td>\n",
       "      <td>1</td>\n",
       "      <td>B9</td>\n",
       "      <td>450000</td>\n",
       "      <td>2016-11-28 00:00:00</td>\n",
       "    </tr>\n",
       "    <tr>\n",
       "      <th>84544</th>\n",
       "      <td>8410</td>\n",
       "      <td>5</td>\n",
       "      <td>WOODROW</td>\n",
       "      <td>02 TWO FAMILY DWELLINGS</td>\n",
       "      <td>1</td>\n",
       "      <td>7349</td>\n",
       "      <td>78</td>\n",
       "      <td></td>\n",
       "      <td>B9</td>\n",
       "      <td>32 PHEASANT LANE</td>\n",
       "      <td>...</td>\n",
       "      <td>2</td>\n",
       "      <td>0</td>\n",
       "      <td>2</td>\n",
       "      <td>2498</td>\n",
       "      <td>2377</td>\n",
       "      <td>1998</td>\n",
       "      <td>1</td>\n",
       "      <td>B9</td>\n",
       "      <td>550000</td>\n",
       "      <td>2017-04-21 00:00:00</td>\n",
       "    </tr>\n",
       "    <tr>\n",
       "      <th>84545</th>\n",
       "      <td>8411</td>\n",
       "      <td>5</td>\n",
       "      <td>WOODROW</td>\n",
       "      <td>02 TWO FAMILY DWELLINGS</td>\n",
       "      <td>1</td>\n",
       "      <td>7351</td>\n",
       "      <td>60</td>\n",
       "      <td></td>\n",
       "      <td>B2</td>\n",
       "      <td>49 PITNEY AVENUE</td>\n",
       "      <td>...</td>\n",
       "      <td>2</td>\n",
       "      <td>0</td>\n",
       "      <td>2</td>\n",
       "      <td>4000</td>\n",
       "      <td>1496</td>\n",
       "      <td>1925</td>\n",
       "      <td>1</td>\n",
       "      <td>B2</td>\n",
       "      <td>460000</td>\n",
       "      <td>2017-07-05 00:00:00</td>\n",
       "    </tr>\n",
       "    <tr>\n",
       "      <th>84546</th>\n",
       "      <td>8412</td>\n",
       "      <td>5</td>\n",
       "      <td>WOODROW</td>\n",
       "      <td>22 STORE BUILDINGS</td>\n",
       "      <td>4</td>\n",
       "      <td>7100</td>\n",
       "      <td>28</td>\n",
       "      <td></td>\n",
       "      <td>K6</td>\n",
       "      <td>2730 ARTHUR KILL ROAD</td>\n",
       "      <td>...</td>\n",
       "      <td>0</td>\n",
       "      <td>7</td>\n",
       "      <td>7</td>\n",
       "      <td>208033</td>\n",
       "      <td>64117</td>\n",
       "      <td>2001</td>\n",
       "      <td>4</td>\n",
       "      <td>K6</td>\n",
       "      <td>11693337</td>\n",
       "      <td>2016-12-21 00:00:00</td>\n",
       "    </tr>\n",
       "    <tr>\n",
       "      <th>84547</th>\n",
       "      <td>8413</td>\n",
       "      <td>5</td>\n",
       "      <td>WOODROW</td>\n",
       "      <td>35 INDOOR PUBLIC AND CULTURAL FACILITIES</td>\n",
       "      <td>4</td>\n",
       "      <td>7105</td>\n",
       "      <td>679</td>\n",
       "      <td></td>\n",
       "      <td>P9</td>\n",
       "      <td>155 CLAY PIT ROAD</td>\n",
       "      <td>...</td>\n",
       "      <td>0</td>\n",
       "      <td>1</td>\n",
       "      <td>1</td>\n",
       "      <td>10796</td>\n",
       "      <td>2400</td>\n",
       "      <td>2006</td>\n",
       "      <td>4</td>\n",
       "      <td>P9</td>\n",
       "      <td>69300</td>\n",
       "      <td>2016-10-27 00:00:00</td>\n",
       "    </tr>\n",
       "  </tbody>\n",
       "</table>\n",
       "<p>5 rows × 22 columns</p>\n",
       "</div>"
      ],
      "text/plain": [
       "       Unnamed: 0  BOROUGH NEIGHBORHOOD  \\\n",
       "84543        8409        5      WOODROW   \n",
       "84544        8410        5      WOODROW   \n",
       "84545        8411        5      WOODROW   \n",
       "84546        8412        5      WOODROW   \n",
       "84547        8413        5      WOODROW   \n",
       "\n",
       "                           BUILDING CLASS CATEGORY TAX CLASS AT PRESENT  \\\n",
       "84543  02 TWO FAMILY DWELLINGS                                        1   \n",
       "84544  02 TWO FAMILY DWELLINGS                                        1   \n",
       "84545  02 TWO FAMILY DWELLINGS                                        1   \n",
       "84546  22 STORE BUILDINGS                                             4   \n",
       "84547  35 INDOOR PUBLIC AND CULTURAL FACILITIES                       4   \n",
       "\n",
       "       BLOCK  LOT EASE-MENT BUILDING CLASS AT PRESENT                ADDRESS  \\\n",
       "84543   7349   34                                  B9          37 QUAIL LANE   \n",
       "84544   7349   78                                  B9       32 PHEASANT LANE   \n",
       "84545   7351   60                                  B2       49 PITNEY AVENUE   \n",
       "84546   7100   28                                  K6  2730 ARTHUR KILL ROAD   \n",
       "84547   7105  679                                  P9      155 CLAY PIT ROAD   \n",
       "\n",
       "       ... RESIDENTIAL UNITS  COMMERCIAL UNITS  TOTAL UNITS  LAND SQUARE FEET  \\\n",
       "84543  ...                 2                 0            2              2400   \n",
       "84544  ...                 2                 0            2              2498   \n",
       "84545  ...                 2                 0            2              4000   \n",
       "84546  ...                 0                 7            7            208033   \n",
       "84547  ...                 0                 1            1             10796   \n",
       "\n",
       "       GROSS SQUARE FEET YEAR BUILT TAX CLASS AT TIME OF SALE  \\\n",
       "84543               2575       1998                         1   \n",
       "84544               2377       1998                         1   \n",
       "84545               1496       1925                         1   \n",
       "84546              64117       2001                         4   \n",
       "84547               2400       2006                         4   \n",
       "\n",
       "       BUILDING CLASS AT TIME OF SALE  SALE PRICE            SALE DATE  \n",
       "84543                              B9      450000  2016-11-28 00:00:00  \n",
       "84544                              B9      550000  2017-04-21 00:00:00  \n",
       "84545                              B2      460000  2017-07-05 00:00:00  \n",
       "84546                              K6    11693337  2016-12-21 00:00:00  \n",
       "84547                              P9       69300  2016-10-27 00:00:00  \n",
       "\n",
       "[5 rows x 22 columns]"
      ]
     },
     "execution_count": 4,
     "metadata": {},
     "output_type": "execute_result"
    }
   ],
   "source": [
    "df.tail()"
   ]
  },
  {
   "cell_type": "code",
   "execution_count": 5,
   "id": "05c0dc09",
   "metadata": {
    "scrolled": false
   },
   "outputs": [
    {
     "name": "stdout",
     "output_type": "stream",
     "text": [
      "<class 'pandas.core.frame.DataFrame'>\n",
      "RangeIndex: 84548 entries, 0 to 84547\n",
      "Data columns (total 22 columns):\n",
      " #   Column                          Non-Null Count  Dtype \n",
      "---  ------                          --------------  ----- \n",
      " 0   Unnamed: 0                      84548 non-null  int64 \n",
      " 1   BOROUGH                         84548 non-null  int64 \n",
      " 2   NEIGHBORHOOD                    84548 non-null  object\n",
      " 3   BUILDING CLASS CATEGORY         84548 non-null  object\n",
      " 4   TAX CLASS AT PRESENT            84548 non-null  object\n",
      " 5   BLOCK                           84548 non-null  int64 \n",
      " 6   LOT                             84548 non-null  int64 \n",
      " 7   EASE-MENT                       84548 non-null  object\n",
      " 8   BUILDING CLASS AT PRESENT       84548 non-null  object\n",
      " 9   ADDRESS                         84548 non-null  object\n",
      " 10  APARTMENT NUMBER                84548 non-null  object\n",
      " 11  ZIP CODE                        84548 non-null  int64 \n",
      " 12  RESIDENTIAL UNITS               84548 non-null  int64 \n",
      " 13  COMMERCIAL UNITS                84548 non-null  int64 \n",
      " 14  TOTAL UNITS                     84548 non-null  int64 \n",
      " 15  LAND SQUARE FEET                84548 non-null  object\n",
      " 16  GROSS SQUARE FEET               84548 non-null  object\n",
      " 17  YEAR BUILT                      84548 non-null  int64 \n",
      " 18  TAX CLASS AT TIME OF SALE       84548 non-null  int64 \n",
      " 19  BUILDING CLASS AT TIME OF SALE  84548 non-null  object\n",
      " 20  SALE PRICE                      84548 non-null  object\n",
      " 21  SALE DATE                       84548 non-null  object\n",
      "dtypes: int64(10), object(12)\n",
      "memory usage: 14.2+ MB\n"
     ]
    }
   ],
   "source": [
    "df.info()"
   ]
  },
  {
   "cell_type": "markdown",
   "id": "b6bfca06",
   "metadata": {},
   "source": [
    "To view the dimensions of the dataframe, use the `.shape` parameter."
   ]
  },
  {
   "cell_type": "code",
   "execution_count": 6,
   "id": "7a56ae75",
   "metadata": {},
   "outputs": [
    {
     "data": {
      "text/plain": [
       "(84548, 22)"
      ]
     },
     "execution_count": 6,
     "metadata": {},
     "output_type": "execute_result"
    }
   ],
   "source": [
    "df.shape #mengetahui dimensi, terdapat 84548 data dengan 22 kolom"
   ]
  },
  {
   "cell_type": "code",
   "execution_count": 7,
   "id": "001fd9fc",
   "metadata": {},
   "outputs": [
    {
     "data": {
      "text/html": [
       "<div>\n",
       "<style scoped>\n",
       "    .dataframe tbody tr th:only-of-type {\n",
       "        vertical-align: middle;\n",
       "    }\n",
       "\n",
       "    .dataframe tbody tr th {\n",
       "        vertical-align: top;\n",
       "    }\n",
       "\n",
       "    .dataframe thead th {\n",
       "        text-align: right;\n",
       "    }\n",
       "</style>\n",
       "<table border=\"1\" class=\"dataframe\">\n",
       "  <thead>\n",
       "    <tr style=\"text-align: right;\">\n",
       "      <th></th>\n",
       "      <th>Unnamed: 0</th>\n",
       "      <th>BOROUGH</th>\n",
       "      <th>BLOCK</th>\n",
       "      <th>LOT</th>\n",
       "      <th>ZIP CODE</th>\n",
       "      <th>RESIDENTIAL UNITS</th>\n",
       "      <th>COMMERCIAL UNITS</th>\n",
       "      <th>TOTAL UNITS</th>\n",
       "      <th>YEAR BUILT</th>\n",
       "      <th>TAX CLASS AT TIME OF SALE</th>\n",
       "    </tr>\n",
       "  </thead>\n",
       "  <tbody>\n",
       "    <tr>\n",
       "      <th>count</th>\n",
       "      <td>84548.000000</td>\n",
       "      <td>84548.000000</td>\n",
       "      <td>84548.000000</td>\n",
       "      <td>84548.000000</td>\n",
       "      <td>84548.000000</td>\n",
       "      <td>84548.000000</td>\n",
       "      <td>84548.000000</td>\n",
       "      <td>84548.000000</td>\n",
       "      <td>84548.000000</td>\n",
       "      <td>84548.000000</td>\n",
       "    </tr>\n",
       "    <tr>\n",
       "      <th>mean</th>\n",
       "      <td>10344.359878</td>\n",
       "      <td>2.998758</td>\n",
       "      <td>4237.218976</td>\n",
       "      <td>376.224015</td>\n",
       "      <td>10731.991614</td>\n",
       "      <td>2.025264</td>\n",
       "      <td>0.193559</td>\n",
       "      <td>2.249184</td>\n",
       "      <td>1789.322976</td>\n",
       "      <td>1.657485</td>\n",
       "    </tr>\n",
       "    <tr>\n",
       "      <th>std</th>\n",
       "      <td>7151.779436</td>\n",
       "      <td>1.289790</td>\n",
       "      <td>3568.263407</td>\n",
       "      <td>658.136814</td>\n",
       "      <td>1290.879147</td>\n",
       "      <td>16.721037</td>\n",
       "      <td>8.713183</td>\n",
       "      <td>18.972584</td>\n",
       "      <td>537.344993</td>\n",
       "      <td>0.819341</td>\n",
       "    </tr>\n",
       "    <tr>\n",
       "      <th>min</th>\n",
       "      <td>4.000000</td>\n",
       "      <td>1.000000</td>\n",
       "      <td>1.000000</td>\n",
       "      <td>1.000000</td>\n",
       "      <td>0.000000</td>\n",
       "      <td>0.000000</td>\n",
       "      <td>0.000000</td>\n",
       "      <td>0.000000</td>\n",
       "      <td>0.000000</td>\n",
       "      <td>1.000000</td>\n",
       "    </tr>\n",
       "    <tr>\n",
       "      <th>25%</th>\n",
       "      <td>4231.000000</td>\n",
       "      <td>2.000000</td>\n",
       "      <td>1322.750000</td>\n",
       "      <td>22.000000</td>\n",
       "      <td>10305.000000</td>\n",
       "      <td>0.000000</td>\n",
       "      <td>0.000000</td>\n",
       "      <td>1.000000</td>\n",
       "      <td>1920.000000</td>\n",
       "      <td>1.000000</td>\n",
       "    </tr>\n",
       "    <tr>\n",
       "      <th>50%</th>\n",
       "      <td>8942.000000</td>\n",
       "      <td>3.000000</td>\n",
       "      <td>3311.000000</td>\n",
       "      <td>50.000000</td>\n",
       "      <td>11209.000000</td>\n",
       "      <td>1.000000</td>\n",
       "      <td>0.000000</td>\n",
       "      <td>1.000000</td>\n",
       "      <td>1940.000000</td>\n",
       "      <td>2.000000</td>\n",
       "    </tr>\n",
       "    <tr>\n",
       "      <th>75%</th>\n",
       "      <td>15987.250000</td>\n",
       "      <td>4.000000</td>\n",
       "      <td>6281.000000</td>\n",
       "      <td>1001.000000</td>\n",
       "      <td>11357.000000</td>\n",
       "      <td>2.000000</td>\n",
       "      <td>0.000000</td>\n",
       "      <td>2.000000</td>\n",
       "      <td>1965.000000</td>\n",
       "      <td>2.000000</td>\n",
       "    </tr>\n",
       "    <tr>\n",
       "      <th>max</th>\n",
       "      <td>26739.000000</td>\n",
       "      <td>5.000000</td>\n",
       "      <td>16322.000000</td>\n",
       "      <td>9106.000000</td>\n",
       "      <td>11694.000000</td>\n",
       "      <td>1844.000000</td>\n",
       "      <td>2261.000000</td>\n",
       "      <td>2261.000000</td>\n",
       "      <td>2017.000000</td>\n",
       "      <td>4.000000</td>\n",
       "    </tr>\n",
       "  </tbody>\n",
       "</table>\n",
       "</div>"
      ],
      "text/plain": [
       "         Unnamed: 0       BOROUGH         BLOCK           LOT      ZIP CODE  \\\n",
       "count  84548.000000  84548.000000  84548.000000  84548.000000  84548.000000   \n",
       "mean   10344.359878      2.998758   4237.218976    376.224015  10731.991614   \n",
       "std     7151.779436      1.289790   3568.263407    658.136814   1290.879147   \n",
       "min        4.000000      1.000000      1.000000      1.000000      0.000000   \n",
       "25%     4231.000000      2.000000   1322.750000     22.000000  10305.000000   \n",
       "50%     8942.000000      3.000000   3311.000000     50.000000  11209.000000   \n",
       "75%    15987.250000      4.000000   6281.000000   1001.000000  11357.000000   \n",
       "max    26739.000000      5.000000  16322.000000   9106.000000  11694.000000   \n",
       "\n",
       "       RESIDENTIAL UNITS  COMMERCIAL UNITS   TOTAL UNITS    YEAR BUILT  \\\n",
       "count       84548.000000      84548.000000  84548.000000  84548.000000   \n",
       "mean            2.025264          0.193559      2.249184   1789.322976   \n",
       "std            16.721037          8.713183     18.972584    537.344993   \n",
       "min             0.000000          0.000000      0.000000      0.000000   \n",
       "25%             0.000000          0.000000      1.000000   1920.000000   \n",
       "50%             1.000000          0.000000      1.000000   1940.000000   \n",
       "75%             2.000000          0.000000      2.000000   1965.000000   \n",
       "max          1844.000000       2261.000000   2261.000000   2017.000000   \n",
       "\n",
       "       TAX CLASS AT TIME OF SALE  \n",
       "count               84548.000000  \n",
       "mean                    1.657485  \n",
       "std                     0.819341  \n",
       "min                     1.000000  \n",
       "25%                     1.000000  \n",
       "50%                     2.000000  \n",
       "75%                     2.000000  \n",
       "max                     4.000000  "
      ]
     },
     "execution_count": 7,
     "metadata": {},
     "output_type": "execute_result"
    }
   ],
   "source": [
    "df.describe() #mendeskripsikan mean, std, dll"
   ]
  },
  {
   "cell_type": "code",
   "execution_count": 8,
   "id": "ebf42e11",
   "metadata": {},
   "outputs": [],
   "source": [
    "# Drop 'Unnamed : 0' and 'EASE-MENT' features using .drop function\n",
    "df.drop(['Unnamed: 0', 'EASE-MENT'], axis = 1, inplace=True)"
   ]
  },
  {
   "cell_type": "code",
   "execution_count": 9,
   "id": "5aa98a6c",
   "metadata": {},
   "outputs": [
    {
     "data": {
      "text/html": [
       "<div>\n",
       "<style scoped>\n",
       "    .dataframe tbody tr th:only-of-type {\n",
       "        vertical-align: middle;\n",
       "    }\n",
       "\n",
       "    .dataframe tbody tr th {\n",
       "        vertical-align: top;\n",
       "    }\n",
       "\n",
       "    .dataframe thead th {\n",
       "        text-align: right;\n",
       "    }\n",
       "</style>\n",
       "<table border=\"1\" class=\"dataframe\">\n",
       "  <thead>\n",
       "    <tr style=\"text-align: right;\">\n",
       "      <th></th>\n",
       "      <th>BOROUGH</th>\n",
       "      <th>NEIGHBORHOOD</th>\n",
       "      <th>BUILDING CLASS CATEGORY</th>\n",
       "      <th>TAX CLASS AT PRESENT</th>\n",
       "      <th>BLOCK</th>\n",
       "      <th>LOT</th>\n",
       "      <th>BUILDING CLASS AT PRESENT</th>\n",
       "      <th>ADDRESS</th>\n",
       "      <th>APARTMENT NUMBER</th>\n",
       "      <th>ZIP CODE</th>\n",
       "      <th>RESIDENTIAL UNITS</th>\n",
       "      <th>COMMERCIAL UNITS</th>\n",
       "      <th>TOTAL UNITS</th>\n",
       "      <th>LAND SQUARE FEET</th>\n",
       "      <th>GROSS SQUARE FEET</th>\n",
       "      <th>YEAR BUILT</th>\n",
       "      <th>TAX CLASS AT TIME OF SALE</th>\n",
       "      <th>BUILDING CLASS AT TIME OF SALE</th>\n",
       "      <th>SALE PRICE</th>\n",
       "      <th>SALE DATE</th>\n",
       "    </tr>\n",
       "  </thead>\n",
       "  <tbody>\n",
       "    <tr>\n",
       "      <th>0</th>\n",
       "      <td>1</td>\n",
       "      <td>ALPHABET CITY</td>\n",
       "      <td>07 RENTALS - WALKUP APARTMENTS</td>\n",
       "      <td>2A</td>\n",
       "      <td>392</td>\n",
       "      <td>6</td>\n",
       "      <td>C2</td>\n",
       "      <td>153 AVENUE B</td>\n",
       "      <td></td>\n",
       "      <td>10009</td>\n",
       "      <td>5</td>\n",
       "      <td>0</td>\n",
       "      <td>5</td>\n",
       "      <td>1633</td>\n",
       "      <td>6440</td>\n",
       "      <td>1900</td>\n",
       "      <td>2</td>\n",
       "      <td>C2</td>\n",
       "      <td>6625000</td>\n",
       "      <td>2017-07-19 00:00:00</td>\n",
       "    </tr>\n",
       "    <tr>\n",
       "      <th>1</th>\n",
       "      <td>1</td>\n",
       "      <td>ALPHABET CITY</td>\n",
       "      <td>07 RENTALS - WALKUP APARTMENTS</td>\n",
       "      <td>2</td>\n",
       "      <td>399</td>\n",
       "      <td>26</td>\n",
       "      <td>C7</td>\n",
       "      <td>234 EAST 4TH   STREET</td>\n",
       "      <td></td>\n",
       "      <td>10009</td>\n",
       "      <td>28</td>\n",
       "      <td>3</td>\n",
       "      <td>31</td>\n",
       "      <td>4616</td>\n",
       "      <td>18690</td>\n",
       "      <td>1900</td>\n",
       "      <td>2</td>\n",
       "      <td>C7</td>\n",
       "      <td>-</td>\n",
       "      <td>2016-12-14 00:00:00</td>\n",
       "    </tr>\n",
       "    <tr>\n",
       "      <th>2</th>\n",
       "      <td>1</td>\n",
       "      <td>ALPHABET CITY</td>\n",
       "      <td>07 RENTALS - WALKUP APARTMENTS</td>\n",
       "      <td>2</td>\n",
       "      <td>399</td>\n",
       "      <td>39</td>\n",
       "      <td>C7</td>\n",
       "      <td>197 EAST 3RD   STREET</td>\n",
       "      <td></td>\n",
       "      <td>10009</td>\n",
       "      <td>16</td>\n",
       "      <td>1</td>\n",
       "      <td>17</td>\n",
       "      <td>2212</td>\n",
       "      <td>7803</td>\n",
       "      <td>1900</td>\n",
       "      <td>2</td>\n",
       "      <td>C7</td>\n",
       "      <td>-</td>\n",
       "      <td>2016-12-09 00:00:00</td>\n",
       "    </tr>\n",
       "    <tr>\n",
       "      <th>3</th>\n",
       "      <td>1</td>\n",
       "      <td>ALPHABET CITY</td>\n",
       "      <td>07 RENTALS - WALKUP APARTMENTS</td>\n",
       "      <td>2B</td>\n",
       "      <td>402</td>\n",
       "      <td>21</td>\n",
       "      <td>C4</td>\n",
       "      <td>154 EAST 7TH STREET</td>\n",
       "      <td></td>\n",
       "      <td>10009</td>\n",
       "      <td>10</td>\n",
       "      <td>0</td>\n",
       "      <td>10</td>\n",
       "      <td>2272</td>\n",
       "      <td>6794</td>\n",
       "      <td>1913</td>\n",
       "      <td>2</td>\n",
       "      <td>C4</td>\n",
       "      <td>3936272</td>\n",
       "      <td>2016-09-23 00:00:00</td>\n",
       "    </tr>\n",
       "    <tr>\n",
       "      <th>4</th>\n",
       "      <td>1</td>\n",
       "      <td>ALPHABET CITY</td>\n",
       "      <td>07 RENTALS - WALKUP APARTMENTS</td>\n",
       "      <td>2A</td>\n",
       "      <td>404</td>\n",
       "      <td>55</td>\n",
       "      <td>C2</td>\n",
       "      <td>301 EAST 10TH   STREET</td>\n",
       "      <td></td>\n",
       "      <td>10009</td>\n",
       "      <td>6</td>\n",
       "      <td>0</td>\n",
       "      <td>6</td>\n",
       "      <td>2369</td>\n",
       "      <td>4615</td>\n",
       "      <td>1900</td>\n",
       "      <td>2</td>\n",
       "      <td>C2</td>\n",
       "      <td>8000000</td>\n",
       "      <td>2016-11-17 00:00:00</td>\n",
       "    </tr>\n",
       "  </tbody>\n",
       "</table>\n",
       "</div>"
      ],
      "text/plain": [
       "   BOROUGH   NEIGHBORHOOD                      BUILDING CLASS CATEGORY  \\\n",
       "0        1  ALPHABET CITY  07 RENTALS - WALKUP APARTMENTS                \n",
       "1        1  ALPHABET CITY  07 RENTALS - WALKUP APARTMENTS                \n",
       "2        1  ALPHABET CITY  07 RENTALS - WALKUP APARTMENTS                \n",
       "3        1  ALPHABET CITY  07 RENTALS - WALKUP APARTMENTS                \n",
       "4        1  ALPHABET CITY  07 RENTALS - WALKUP APARTMENTS                \n",
       "\n",
       "  TAX CLASS AT PRESENT  BLOCK  LOT BUILDING CLASS AT PRESENT  \\\n",
       "0                   2A    392    6                        C2   \n",
       "1                    2    399   26                        C7   \n",
       "2                    2    399   39                        C7   \n",
       "3                   2B    402   21                        C4   \n",
       "4                   2A    404   55                        C2   \n",
       "\n",
       "                  ADDRESS APARTMENT NUMBER  ZIP CODE  RESIDENTIAL UNITS  \\\n",
       "0            153 AVENUE B                      10009                  5   \n",
       "1   234 EAST 4TH   STREET                      10009                 28   \n",
       "2   197 EAST 3RD   STREET                      10009                 16   \n",
       "3     154 EAST 7TH STREET                      10009                 10   \n",
       "4  301 EAST 10TH   STREET                      10009                  6   \n",
       "\n",
       "   COMMERCIAL UNITS  TOTAL UNITS LAND SQUARE FEET GROSS SQUARE FEET  \\\n",
       "0                 0            5             1633              6440   \n",
       "1                 3           31             4616             18690   \n",
       "2                 1           17             2212              7803   \n",
       "3                 0           10             2272              6794   \n",
       "4                 0            6             2369              4615   \n",
       "\n",
       "   YEAR BUILT  TAX CLASS AT TIME OF SALE BUILDING CLASS AT TIME OF SALE  \\\n",
       "0        1900                          2                             C2   \n",
       "1        1900                          2                             C7   \n",
       "2        1900                          2                             C7   \n",
       "3        1913                          2                             C4   \n",
       "4        1900                          2                             C2   \n",
       "\n",
       "  SALE PRICE            SALE DATE  \n",
       "0    6625000  2017-07-19 00:00:00  \n",
       "1        -    2016-12-14 00:00:00  \n",
       "2        -    2016-12-09 00:00:00  \n",
       "3    3936272  2016-09-23 00:00:00  \n",
       "4    8000000  2016-11-17 00:00:00  "
      ]
     },
     "execution_count": 9,
     "metadata": {},
     "output_type": "execute_result"
    }
   ],
   "source": [
    "df.head() #show 5 new row"
   ]
  },
  {
   "cell_type": "code",
   "execution_count": 10,
   "id": "59606b71",
   "metadata": {},
   "outputs": [
    {
     "name": "stdout",
     "output_type": "stream",
     "text": [
      "Column name\n",
      "NEIGHBORHOOD 254\n",
      "BUILDING CLASS CATEGORY 47\n",
      "TAX CLASS AT PRESENT 11\n",
      "BUILDING CLASS AT PRESENT 167\n",
      "ADDRESS 67563\n",
      "APARTMENT NUMBER 3989\n",
      "LAND SQUARE FEET 6062\n",
      "GROSS SQUARE FEET 5691\n",
      "BUILDING CLASS AT TIME OF SALE 166\n",
      "SALE PRICE 10008\n",
      "SALE DATE 364\n"
     ]
    }
   ],
   "source": [
    "print('Column name')\n",
    "for col in df.columns:\n",
    "    if df[col].dtype=='object':\n",
    "        print(col, df[col].nunique())"
   ]
  },
  {
   "cell_type": "markdown",
   "id": "2a9543d4",
   "metadata": {},
   "source": [
    "Berdasarkan hasil yang didapat ditemukan bahwa LAND SQUARE FEET,GROSS SQUARE FEET, SALE PRICE, BOROUGH adalah data numerical dn NEIGHBORHOOD, BUILDING CLASS CATEGORY, TAX CLASS AT PRESENT, BUILDING CLASS AT PRESENT, BUILDING CLASS AT TIME OF SALE, TAX CLASS AT TIME OF SALE,BOROUGH adalah data categorical."
   ]
  },
  {
   "cell_type": "code",
   "execution_count": 11,
   "id": "d64dad2b",
   "metadata": {},
   "outputs": [],
   "source": [
    "numeric = ['LAND SQUARE FEET','GROSS SQUARE FEET', 'SALE PRICE', 'BOROUGH']\n",
    "for col in numeric: # coerce for missing values\n",
    "    df[col] = pd.to_numeric(df[col], errors='coerce')"
   ]
  },
  {
   "cell_type": "code",
   "execution_count": 12,
   "id": "c467718f",
   "metadata": {},
   "outputs": [],
   "source": [
    "categoric = ['NEIGHBORHOOD', 'BUILDING CLASS CATEGORY', 'TAX CLASS AT PRESENT', 'BUILDING CLASS AT PRESENT', 'BUILDING CLASS AT TIME OF SALE', 'TAX CLASS AT TIME OF SALE']\n",
    "for col in categoric:\n",
    "    df[col] = df[col].astype('category')"
   ]
  },
  {
   "cell_type": "code",
   "execution_count": 13,
   "id": "a9fcb028",
   "metadata": {},
   "outputs": [],
   "source": [
    "df['SALE DATE'] = pd.to_datetime(df['SALE DATE'], errors='coerce') #sale date dengan format datetime"
   ]
  },
  {
   "cell_type": "markdown",
   "id": "573845ac",
   "metadata": {},
   "source": [
    "Let's view dtype of each features in dataframe using `.info()` function."
   ]
  },
  {
   "cell_type": "code",
   "execution_count": 14,
   "id": "a18bc8ff",
   "metadata": {
    "scrolled": false
   },
   "outputs": [
    {
     "name": "stdout",
     "output_type": "stream",
     "text": [
      "<class 'pandas.core.frame.DataFrame'>\n",
      "RangeIndex: 84548 entries, 0 to 84547\n",
      "Data columns (total 20 columns):\n",
      " #   Column                          Non-Null Count  Dtype         \n",
      "---  ------                          --------------  -----         \n",
      " 0   BOROUGH                         84548 non-null  int64         \n",
      " 1   NEIGHBORHOOD                    84548 non-null  category      \n",
      " 2   BUILDING CLASS CATEGORY         84548 non-null  category      \n",
      " 3   TAX CLASS AT PRESENT            84548 non-null  category      \n",
      " 4   BLOCK                           84548 non-null  int64         \n",
      " 5   LOT                             84548 non-null  int64         \n",
      " 6   BUILDING CLASS AT PRESENT       84548 non-null  category      \n",
      " 7   ADDRESS                         84548 non-null  object        \n",
      " 8   APARTMENT NUMBER                84548 non-null  object        \n",
      " 9   ZIP CODE                        84548 non-null  int64         \n",
      " 10  RESIDENTIAL UNITS               84548 non-null  int64         \n",
      " 11  COMMERCIAL UNITS                84548 non-null  int64         \n",
      " 12  TOTAL UNITS                     84548 non-null  int64         \n",
      " 13  LAND SQUARE FEET                58296 non-null  float64       \n",
      " 14  GROSS SQUARE FEET               56936 non-null  float64       \n",
      " 15  YEAR BUILT                      84548 non-null  int64         \n",
      " 16  TAX CLASS AT TIME OF SALE       84548 non-null  category      \n",
      " 17  BUILDING CLASS AT TIME OF SALE  84548 non-null  category      \n",
      " 18  SALE PRICE                      69987 non-null  float64       \n",
      " 19  SALE DATE                       84548 non-null  datetime64[ns]\n",
      "dtypes: category(6), datetime64[ns](1), float64(3), int64(8), object(2)\n",
      "memory usage: 9.8+ MB\n"
     ]
    }
   ],
   "source": [
    "df.info()"
   ]
  },
  {
   "cell_type": "code",
   "execution_count": 15,
   "id": "2aecf83c",
   "metadata": {},
   "outputs": [
    {
     "data": {
      "text/plain": [
       "765"
      ]
     },
     "execution_count": 15,
     "metadata": {},
     "output_type": "execute_result"
    }
   ],
   "source": [
    "df.duplicated().sum() #mengecek apakah ada data yang terduplikat"
   ]
  },
  {
   "cell_type": "code",
   "execution_count": 16,
   "id": "44f86976",
   "metadata": {},
   "outputs": [
    {
     "data": {
      "text/plain": [
       "0"
      ]
     },
     "execution_count": 16,
     "metadata": {},
     "output_type": "execute_result"
    }
   ],
   "source": [
    "df.drop_duplicates(inplace=True) #mendrop data yang terduplikat\n",
    "df.duplicated().sum()"
   ]
  },
  {
   "cell_type": "code",
   "execution_count": 17,
   "id": "39333a5b",
   "metadata": {
    "scrolled": false
   },
   "outputs": [
    {
     "data": {
      "text/plain": [
       "BOROUGH                               0\n",
       "NEIGHBORHOOD                          0\n",
       "BUILDING CLASS CATEGORY               0\n",
       "TAX CLASS AT PRESENT                  0\n",
       "BLOCK                                 0\n",
       "LOT                                   0\n",
       "BUILDING CLASS AT PRESENT             0\n",
       "ADDRESS                               0\n",
       "APARTMENT NUMBER                      0\n",
       "ZIP CODE                              0\n",
       "RESIDENTIAL UNITS                     0\n",
       "COMMERCIAL UNITS                      0\n",
       "TOTAL UNITS                           0\n",
       "LAND SQUARE FEET                  26054\n",
       "GROSS SQUARE FEET                 27385\n",
       "YEAR BUILT                            0\n",
       "TAX CLASS AT TIME OF SALE             0\n",
       "BUILDING CLASS AT TIME OF SALE        0\n",
       "SALE PRICE                        14176\n",
       "SALE DATE                             0\n",
       "dtype: int64"
      ]
     },
     "execution_count": 17,
     "metadata": {},
     "output_type": "execute_result"
    }
   ],
   "source": [
    "df.isnull().sum() #memeriksa apakah dataframe ada nilai null"
   ]
  },
  {
   "cell_type": "code",
   "execution_count": 18,
   "id": "d45fb411",
   "metadata": {},
   "outputs": [
    {
     "data": {
      "text/plain": [
       "BOROUGH                            0.000000\n",
       "NEIGHBORHOOD                       0.000000\n",
       "BUILDING CLASS CATEGORY            0.000000\n",
       "TAX CLASS AT PRESENT               0.000000\n",
       "BLOCK                              0.000000\n",
       "LOT                                0.000000\n",
       "BUILDING CLASS AT PRESENT          0.000000\n",
       "ADDRESS                            0.000000\n",
       "APARTMENT NUMBER                   0.000000\n",
       "ZIP CODE                           0.000000\n",
       "RESIDENTIAL UNITS                  0.000000\n",
       "COMMERCIAL UNITS                   0.000000\n",
       "TOTAL UNITS                        0.000000\n",
       "LAND SQUARE FEET                  31.097001\n",
       "GROSS SQUARE FEET                 32.685628\n",
       "YEAR BUILT                         0.000000\n",
       "TAX CLASS AT TIME OF SALE          0.000000\n",
       "BUILDING CLASS AT TIME OF SALE     0.000000\n",
       "SALE PRICE                        16.919900\n",
       "SALE DATE                          0.000000\n",
       "dtype: float64"
      ]
     },
     "execution_count": 18,
     "metadata": {},
     "output_type": "execute_result"
    }
   ],
   "source": [
    "df.isna().sum() /len(df) *100 #memeriksa apakah dataframe ada nilai null dalam persen"
   ]
  },
  {
   "cell_type": "code",
   "execution_count": 19,
   "id": "02b808a2",
   "metadata": {},
   "outputs": [
    {
     "name": "stdout",
     "output_type": "stream",
     "text": [
      "                  LAND SQUARE FEET  GROSS SQUARE FEET  SALE PRICE\n",
      "percent missing          31.097001          32.685628     16.9199\n",
      "how many missing      26054.000000       27385.000000  14176.0000\n"
     ]
    }
   ],
   "source": [
    "missing = df.isnull().sum()/len(df)*100\n",
    "\n",
    "print(pd.DataFrame([missing[missing>0],pd.Series(df.isnull().sum()[df.isnull().sum()>1000])], index=['percent missing','how many missing']))"
   ]
  },
  {
   "cell_type": "code",
   "execution_count": 20,
   "id": "7814e480",
   "metadata": {},
   "outputs": [],
   "source": [
    "df['LAND SQUARE FEET'].fillna(df['LAND SQUARE FEET'].median(), inplace=True)\n",
    "df['GROSS SQUARE FEET'].fillna(df['GROSS SQUARE FEET'].median(), inplace=True)"
   ]
  },
  {
   "cell_type": "code",
   "execution_count": 21,
   "id": "e863fe05",
   "metadata": {},
   "outputs": [
    {
     "data": {
      "text/plain": [
       "BOROUGH                           0\n",
       "NEIGHBORHOOD                      0\n",
       "BUILDING CLASS CATEGORY           0\n",
       "TAX CLASS AT PRESENT              0\n",
       "BLOCK                             0\n",
       "LOT                               0\n",
       "BUILDING CLASS AT PRESENT         0\n",
       "ADDRESS                           0\n",
       "APARTMENT NUMBER                  0\n",
       "ZIP CODE                          0\n",
       "RESIDENTIAL UNITS                 0\n",
       "COMMERCIAL UNITS                  0\n",
       "TOTAL UNITS                       0\n",
       "LAND SQUARE FEET                  0\n",
       "GROSS SQUARE FEET                 0\n",
       "YEAR BUILT                        0\n",
       "TAX CLASS AT TIME OF SALE         0\n",
       "BUILDING CLASS AT TIME OF SALE    0\n",
       "SALE PRICE                        0\n",
       "SALE DATE                         0\n",
       "dtype: int64"
      ]
     },
     "execution_count": 21,
     "metadata": {},
     "output_type": "execute_result"
    }
   ],
   "source": [
    "df = df.dropna() #mendrop nilai yang missing/hilang\n",
    "df.isnull().sum()"
   ]
  },
  {
   "cell_type": "markdown",
   "id": "271d0dd9",
   "metadata": {},
   "source": [
    "# Exploratory Data Analysis"
   ]
  },
  {
   "cell_type": "markdown",
   "id": "4df27f24",
   "metadata": {},
   "source": [
    "Dengan memisalkan dimana untuk Borough yang bernilai \n",
    "- 1 : 'Manhattan'\n",
    "- 2 : 'Bronx'\n",
    "- 3 : 'Brooklyn'\n",
    "- 4 : 'Queens'\n",
    "- 5 : 'Staten Island'"
   ]
  },
  {
   "cell_type": "code",
   "execution_count": 22,
   "id": "44902301",
   "metadata": {},
   "outputs": [
    {
     "data": {
      "text/html": [
       "<div>\n",
       "<style scoped>\n",
       "    .dataframe tbody tr th:only-of-type {\n",
       "        vertical-align: middle;\n",
       "    }\n",
       "\n",
       "    .dataframe tbody tr th {\n",
       "        vertical-align: top;\n",
       "    }\n",
       "\n",
       "    .dataframe thead th {\n",
       "        text-align: right;\n",
       "    }\n",
       "</style>\n",
       "<table border=\"1\" class=\"dataframe\">\n",
       "  <thead>\n",
       "    <tr style=\"text-align: right;\">\n",
       "      <th></th>\n",
       "      <th>BOROUGH</th>\n",
       "      <th>BLOCK</th>\n",
       "      <th>LOT</th>\n",
       "      <th>ZIP CODE</th>\n",
       "      <th>RESIDENTIAL UNITS</th>\n",
       "      <th>COMMERCIAL UNITS</th>\n",
       "      <th>TOTAL UNITS</th>\n",
       "      <th>LAND SQUARE FEET</th>\n",
       "      <th>GROSS SQUARE FEET</th>\n",
       "      <th>YEAR BUILT</th>\n",
       "      <th>SALE PRICE</th>\n",
       "    </tr>\n",
       "  </thead>\n",
       "  <tbody>\n",
       "    <tr>\n",
       "      <th>count</th>\n",
       "      <td>65629.000000</td>\n",
       "      <td>65629.000000</td>\n",
       "      <td>65629.000000</td>\n",
       "      <td>65629.000000</td>\n",
       "      <td>65629.000000</td>\n",
       "      <td>65629.0</td>\n",
       "      <td>65629.000000</td>\n",
       "      <td>6.562900e+04</td>\n",
       "      <td>65629.000000</td>\n",
       "      <td>65629.000000</td>\n",
       "      <td>6.562900e+04</td>\n",
       "    </tr>\n",
       "    <tr>\n",
       "      <th>mean</th>\n",
       "      <td>2.925399</td>\n",
       "      <td>4222.346981</td>\n",
       "      <td>392.817626</td>\n",
       "      <td>10729.429612</td>\n",
       "      <td>1.633226</td>\n",
       "      <td>0.0</td>\n",
       "      <td>1.655259</td>\n",
       "      <td>2.698046e+03</td>\n",
       "      <td>2023.791967</td>\n",
       "      <td>1792.087629</td>\n",
       "      <td>9.952969e+05</td>\n",
       "    </tr>\n",
       "    <tr>\n",
       "      <th>std</th>\n",
       "      <td>1.250494</td>\n",
       "      <td>3454.870029</td>\n",
       "      <td>668.990427</td>\n",
       "      <td>1291.520478</td>\n",
       "      <td>9.540539</td>\n",
       "      <td>0.0</td>\n",
       "      <td>9.537896</td>\n",
       "      <td>2.534878e+04</td>\n",
       "      <td>7961.085047</td>\n",
       "      <td>533.639273</td>\n",
       "      <td>3.329268e+06</td>\n",
       "    </tr>\n",
       "    <tr>\n",
       "      <th>min</th>\n",
       "      <td>1.000000</td>\n",
       "      <td>1.000000</td>\n",
       "      <td>1.000000</td>\n",
       "      <td>0.000000</td>\n",
       "      <td>0.000000</td>\n",
       "      <td>0.0</td>\n",
       "      <td>0.000000</td>\n",
       "      <td>0.000000e+00</td>\n",
       "      <td>0.000000</td>\n",
       "      <td>0.000000</td>\n",
       "      <td>0.000000e+00</td>\n",
       "    </tr>\n",
       "    <tr>\n",
       "      <th>25%</th>\n",
       "      <td>2.000000</td>\n",
       "      <td>1349.000000</td>\n",
       "      <td>22.000000</td>\n",
       "      <td>10306.000000</td>\n",
       "      <td>0.000000</td>\n",
       "      <td>0.0</td>\n",
       "      <td>0.000000</td>\n",
       "      <td>1.900000e+03</td>\n",
       "      <td>1231.000000</td>\n",
       "      <td>1920.000000</td>\n",
       "      <td>2.400000e+05</td>\n",
       "    </tr>\n",
       "    <tr>\n",
       "      <th>50%</th>\n",
       "      <td>3.000000</td>\n",
       "      <td>3393.000000</td>\n",
       "      <td>52.000000</td>\n",
       "      <td>11209.000000</td>\n",
       "      <td>1.000000</td>\n",
       "      <td>0.0</td>\n",
       "      <td>1.000000</td>\n",
       "      <td>2.314000e+03</td>\n",
       "      <td>1680.000000</td>\n",
       "      <td>1940.000000</td>\n",
       "      <td>5.294900e+05</td>\n",
       "    </tr>\n",
       "    <tr>\n",
       "      <th>75%</th>\n",
       "      <td>4.000000</td>\n",
       "      <td>6232.000000</td>\n",
       "      <td>1002.000000</td>\n",
       "      <td>11249.000000</td>\n",
       "      <td>2.000000</td>\n",
       "      <td>0.0</td>\n",
       "      <td>2.000000</td>\n",
       "      <td>2.500000e+03</td>\n",
       "      <td>1890.000000</td>\n",
       "      <td>1965.000000</td>\n",
       "      <td>9.219560e+05</td>\n",
       "    </tr>\n",
       "    <tr>\n",
       "      <th>max</th>\n",
       "      <td>5.000000</td>\n",
       "      <td>16319.000000</td>\n",
       "      <td>9106.000000</td>\n",
       "      <td>11694.000000</td>\n",
       "      <td>889.000000</td>\n",
       "      <td>0.0</td>\n",
       "      <td>889.000000</td>\n",
       "      <td>4.252327e+06</td>\n",
       "      <td>600613.000000</td>\n",
       "      <td>2017.000000</td>\n",
       "      <td>3.450000e+08</td>\n",
       "    </tr>\n",
       "  </tbody>\n",
       "</table>\n",
       "</div>"
      ],
      "text/plain": [
       "            BOROUGH         BLOCK           LOT      ZIP CODE  \\\n",
       "count  65629.000000  65629.000000  65629.000000  65629.000000   \n",
       "mean       2.925399   4222.346981    392.817626  10729.429612   \n",
       "std        1.250494   3454.870029    668.990427   1291.520478   \n",
       "min        1.000000      1.000000      1.000000      0.000000   \n",
       "25%        2.000000   1349.000000     22.000000  10306.000000   \n",
       "50%        3.000000   3393.000000     52.000000  11209.000000   \n",
       "75%        4.000000   6232.000000   1002.000000  11249.000000   \n",
       "max        5.000000  16319.000000   9106.000000  11694.000000   \n",
       "\n",
       "       RESIDENTIAL UNITS  COMMERCIAL UNITS   TOTAL UNITS  LAND SQUARE FEET  \\\n",
       "count       65629.000000           65629.0  65629.000000      6.562900e+04   \n",
       "mean            1.633226               0.0      1.655259      2.698046e+03   \n",
       "std             9.540539               0.0      9.537896      2.534878e+04   \n",
       "min             0.000000               0.0      0.000000      0.000000e+00   \n",
       "25%             0.000000               0.0      0.000000      1.900000e+03   \n",
       "50%             1.000000               0.0      1.000000      2.314000e+03   \n",
       "75%             2.000000               0.0      2.000000      2.500000e+03   \n",
       "max           889.000000               0.0    889.000000      4.252327e+06   \n",
       "\n",
       "       GROSS SQUARE FEET    YEAR BUILT    SALE PRICE  \n",
       "count       65629.000000  65629.000000  6.562900e+04  \n",
       "mean         2023.791967   1792.087629  9.952969e+05  \n",
       "std          7961.085047    533.639273  3.329268e+06  \n",
       "min             0.000000      0.000000  0.000000e+00  \n",
       "25%          1231.000000   1920.000000  2.400000e+05  \n",
       "50%          1680.000000   1940.000000  5.294900e+05  \n",
       "75%          1890.000000   1965.000000  9.219560e+05  \n",
       "max        600613.000000   2017.000000  3.450000e+08  "
      ]
     },
     "execution_count": 22,
     "metadata": {},
     "output_type": "execute_result"
    }
   ],
   "source": [
    "df[df['COMMERCIAL UNITS']==0].describe()"
   ]
  },
  {
   "cell_type": "markdown",
   "id": "8f8d582c",
   "metadata": {},
   "source": [
    "Let us try to understand the columns. Above table shows descriptive statistics for the numeric columns.\n",
    "\n",
    "- There are zipcodes with 0 value\n",
    "- Can block/lot numbers go up to 16322?\n",
    "- Most of the properties have 2 unit and maximum of 1844 units? The latter might mean some company purchased a building. This should be treated as an outlier.\n",
    "- Other columns also have outliers which needs further investigation.\n",
    "- Year column has a year with 0\n",
    "- Most sales prices less than 10000 can be treated as gift or transfer fees.\n",
    "\n",
    "Now, let's get a simple descriptive statistics with .describe() function for RESIDENTIAL UNITS features."
   ]
  },
  {
   "cell_type": "code",
   "execution_count": 23,
   "id": "15e349d8",
   "metadata": {},
   "outputs": [
    {
     "data": {
      "text/html": [
       "<div>\n",
       "<style scoped>\n",
       "    .dataframe tbody tr th:only-of-type {\n",
       "        vertical-align: middle;\n",
       "    }\n",
       "\n",
       "    .dataframe tbody tr th {\n",
       "        vertical-align: top;\n",
       "    }\n",
       "\n",
       "    .dataframe thead th {\n",
       "        text-align: right;\n",
       "    }\n",
       "</style>\n",
       "<table border=\"1\" class=\"dataframe\">\n",
       "  <thead>\n",
       "    <tr style=\"text-align: right;\">\n",
       "      <th></th>\n",
       "      <th>BOROUGH</th>\n",
       "      <th>BLOCK</th>\n",
       "      <th>LOT</th>\n",
       "      <th>ZIP CODE</th>\n",
       "      <th>RESIDENTIAL UNITS</th>\n",
       "      <th>COMMERCIAL UNITS</th>\n",
       "      <th>TOTAL UNITS</th>\n",
       "      <th>LAND SQUARE FEET</th>\n",
       "      <th>GROSS SQUARE FEET</th>\n",
       "      <th>YEAR BUILT</th>\n",
       "      <th>SALE PRICE</th>\n",
       "    </tr>\n",
       "  </thead>\n",
       "  <tbody>\n",
       "    <tr>\n",
       "      <th>count</th>\n",
       "      <td>20855.000000</td>\n",
       "      <td>20855.000000</td>\n",
       "      <td>20855.000000</td>\n",
       "      <td>20855.000000</td>\n",
       "      <td>20855.0</td>\n",
       "      <td>20855.000000</td>\n",
       "      <td>20855.000000</td>\n",
       "      <td>2.085500e+04</td>\n",
       "      <td>2.085500e+04</td>\n",
       "      <td>20855.000000</td>\n",
       "      <td>2.085500e+04</td>\n",
       "    </tr>\n",
       "    <tr>\n",
       "      <th>mean</th>\n",
       "      <td>2.472453</td>\n",
       "      <td>3347.129945</td>\n",
       "      <td>250.811988</td>\n",
       "      <td>10347.306114</td>\n",
       "      <td>0.0</td>\n",
       "      <td>0.392999</td>\n",
       "      <td>0.462335</td>\n",
       "      <td>4.057519e+03</td>\n",
       "      <td>3.329339e+03</td>\n",
       "      <td>1716.417310</td>\n",
       "      <td>1.632257e+06</td>\n",
       "    </tr>\n",
       "    <tr>\n",
       "      <th>std</th>\n",
       "      <td>1.275097</td>\n",
       "      <td>2940.939158</td>\n",
       "      <td>534.381596</td>\n",
       "      <td>2073.301769</td>\n",
       "      <td>0.0</td>\n",
       "      <td>16.421262</td>\n",
       "      <td>16.421568</td>\n",
       "      <td>5.238821e+04</td>\n",
       "      <td>3.022231e+04</td>\n",
       "      <td>631.778616</td>\n",
       "      <td>1.969307e+07</td>\n",
       "    </tr>\n",
       "    <tr>\n",
       "      <th>min</th>\n",
       "      <td>1.000000</td>\n",
       "      <td>1.000000</td>\n",
       "      <td>1.000000</td>\n",
       "      <td>0.000000</td>\n",
       "      <td>0.0</td>\n",
       "      <td>0.000000</td>\n",
       "      <td>0.000000</td>\n",
       "      <td>0.000000e+00</td>\n",
       "      <td>0.000000e+00</td>\n",
       "      <td>0.000000</td>\n",
       "      <td>0.000000e+00</td>\n",
       "    </tr>\n",
       "    <tr>\n",
       "      <th>25%</th>\n",
       "      <td>1.000000</td>\n",
       "      <td>1179.000000</td>\n",
       "      <td>11.000000</td>\n",
       "      <td>10024.000000</td>\n",
       "      <td>0.0</td>\n",
       "      <td>0.000000</td>\n",
       "      <td>0.000000</td>\n",
       "      <td>6.000000e+02</td>\n",
       "      <td>0.000000e+00</td>\n",
       "      <td>1924.000000</td>\n",
       "      <td>1.825000e+05</td>\n",
       "    </tr>\n",
       "    <tr>\n",
       "      <th>50%</th>\n",
       "      <td>3.000000</td>\n",
       "      <td>2061.000000</td>\n",
       "      <td>36.000000</td>\n",
       "      <td>11004.000000</td>\n",
       "      <td>0.0</td>\n",
       "      <td>0.000000</td>\n",
       "      <td>0.000000</td>\n",
       "      <td>2.314000e+03</td>\n",
       "      <td>1.680000e+03</td>\n",
       "      <td>1949.000000</td>\n",
       "      <td>3.950000e+05</td>\n",
       "    </tr>\n",
       "    <tr>\n",
       "      <th>75%</th>\n",
       "      <td>4.000000</td>\n",
       "      <td>5626.500000</td>\n",
       "      <td>100.000000</td>\n",
       "      <td>11236.000000</td>\n",
       "      <td>0.0</td>\n",
       "      <td>0.000000</td>\n",
       "      <td>0.000000</td>\n",
       "      <td>2.314000e+03</td>\n",
       "      <td>1.680000e+03</td>\n",
       "      <td>1961.000000</td>\n",
       "      <td>8.500000e+05</td>\n",
       "    </tr>\n",
       "    <tr>\n",
       "      <th>max</th>\n",
       "      <td>5.000000</td>\n",
       "      <td>16315.000000</td>\n",
       "      <td>9056.000000</td>\n",
       "      <td>11694.000000</td>\n",
       "      <td>0.0</td>\n",
       "      <td>2261.000000</td>\n",
       "      <td>2261.000000</td>\n",
       "      <td>4.252327e+06</td>\n",
       "      <td>1.617206e+06</td>\n",
       "      <td>2017.000000</td>\n",
       "      <td>2.210000e+09</td>\n",
       "    </tr>\n",
       "  </tbody>\n",
       "</table>\n",
       "</div>"
      ],
      "text/plain": [
       "            BOROUGH         BLOCK           LOT      ZIP CODE  \\\n",
       "count  20855.000000  20855.000000  20855.000000  20855.000000   \n",
       "mean       2.472453   3347.129945    250.811988  10347.306114   \n",
       "std        1.275097   2940.939158    534.381596   2073.301769   \n",
       "min        1.000000      1.000000      1.000000      0.000000   \n",
       "25%        1.000000   1179.000000     11.000000  10024.000000   \n",
       "50%        3.000000   2061.000000     36.000000  11004.000000   \n",
       "75%        4.000000   5626.500000    100.000000  11236.000000   \n",
       "max        5.000000  16315.000000   9056.000000  11694.000000   \n",
       "\n",
       "       RESIDENTIAL UNITS  COMMERCIAL UNITS   TOTAL UNITS  LAND SQUARE FEET  \\\n",
       "count            20855.0      20855.000000  20855.000000      2.085500e+04   \n",
       "mean                 0.0          0.392999      0.462335      4.057519e+03   \n",
       "std                  0.0         16.421262     16.421568      5.238821e+04   \n",
       "min                  0.0          0.000000      0.000000      0.000000e+00   \n",
       "25%                  0.0          0.000000      0.000000      6.000000e+02   \n",
       "50%                  0.0          0.000000      0.000000      2.314000e+03   \n",
       "75%                  0.0          0.000000      0.000000      2.314000e+03   \n",
       "max                  0.0       2261.000000   2261.000000      4.252327e+06   \n",
       "\n",
       "       GROSS SQUARE FEET    YEAR BUILT    SALE PRICE  \n",
       "count       2.085500e+04  20855.000000  2.085500e+04  \n",
       "mean        3.329339e+03   1716.417310  1.632257e+06  \n",
       "std         3.022231e+04    631.778616  1.969307e+07  \n",
       "min         0.000000e+00      0.000000  0.000000e+00  \n",
       "25%         0.000000e+00   1924.000000  1.825000e+05  \n",
       "50%         1.680000e+03   1949.000000  3.950000e+05  \n",
       "75%         1.680000e+03   1961.000000  8.500000e+05  \n",
       "max         1.617206e+06   2017.000000  2.210000e+09  "
      ]
     },
     "execution_count": 23,
     "metadata": {},
     "output_type": "execute_result"
    }
   ],
   "source": [
    "df[df['RESIDENTIAL UNITS']==0].describe()\n",
    "# Write your function below\n",
    "\n",
    "# Graded-Funtion Begin (~1 Lines)\n",
    "\n",
    "# Graded-Funtion End"
   ]
  },
  {
   "cell_type": "code",
   "execution_count": 24,
   "id": "02e9d826",
   "metadata": {},
   "outputs": [
    {
     "data": {
      "text/plain": [
       "<bound method IndexOpsMixin.value_counts of 0        1\n",
       "3        1\n",
       "4        1\n",
       "6        1\n",
       "9        1\n",
       "        ..\n",
       "84543    5\n",
       "84544    5\n",
       "84545    5\n",
       "84546    5\n",
       "84547    5\n",
       "Name: BOROUGH, Length: 69607, dtype: int64>"
      ]
     },
     "execution_count": 24,
     "metadata": {},
     "output_type": "execute_result"
    }
   ],
   "source": [
    "df['BOROUGH'].value_counts"
   ]
  },
  {
   "cell_type": "code",
   "execution_count": 25,
   "id": "53fc59f9",
   "metadata": {},
   "outputs": [
    {
     "name": "stdout",
     "output_type": "stream",
     "text": [
      "BOROUGH\n",
      "1    3.344642e+06\n",
      "2    5.946771e+05\n",
      "3    8.410834e+05\n",
      "4    7.388827e+05\n",
      "5    5.436113e+05\n",
      "Name: SALE PRICE, dtype: float64\n"
     ]
    }
   ],
   "source": [
    "means = df.groupby('BOROUGH')['SALE PRICE'].mean()\n",
    "print(means)"
   ]
  },
  {
   "cell_type": "code",
   "execution_count": 26,
   "id": "d7612a87",
   "metadata": {},
   "outputs": [
    {
     "name": "stdout",
     "output_type": "stream",
     "text": [
      "BOROUGH\n",
      "1    1155000.0\n",
      "2     274897.0\n",
      "3     425605.0\n",
      "4     495000.0\n",
      "5     465000.0\n",
      "Name: SALE PRICE, dtype: float64\n"
     ]
    }
   ],
   "source": [
    "medians = df.groupby('BOROUGH')['SALE PRICE'].median()\n",
    "print(medians)"
   ]
  },
  {
   "cell_type": "code",
   "execution_count": 27,
   "id": "24201a4f",
   "metadata": {},
   "outputs": [
    {
     "name": "stdout",
     "output_type": "stream",
     "text": [
      "BOROUGH -  1 =  0    10.0\n",
      "Name: SALE PRICE, dtype: float64\n",
      "BOROUGH -  2 =  0    0.0\n",
      "Name: SALE PRICE, dtype: float64\n",
      "BOROUGH -  3 =  0    0.0\n",
      "Name: SALE PRICE, dtype: float64\n",
      "BOROUGH -  4 =  0    10.0\n",
      "Name: SALE PRICE, dtype: float64\n",
      "BOROUGH -  5 =  0    10.0\n",
      "Name: SALE PRICE, dtype: float64\n"
     ]
    }
   ],
   "source": [
    "arr_mode=[]\n",
    "for i in range(df['BOROUGH'].max()):\n",
    "    arr_mode.append(df[df.BOROUGH == i+1]['SALE PRICE'].mode())\n",
    "    print(\"BOROUGH - \",i+1,\"= \",arr_mode[i])"
   ]
  },
  {
   "cell_type": "code",
   "execution_count": 28,
   "id": "fe92af58",
   "metadata": {},
   "outputs": [
    {
     "name": "stdout",
     "output_type": "stream",
     "text": [
      "BOROUGH -  1 =  2209999999.0\n",
      "BOROUGH -  2 =  110000000.0\n",
      "BOROUGH -  3 =  345000000.0\n",
      "BOROUGH -  4 =  257499999.0\n",
      "BOROUGH -  5 =  121999999.0\n"
     ]
    }
   ],
   "source": [
    "arr_range=[]\n",
    "for i in range(df['BOROUGH'].max()):\n",
    "    arr_range.append(df[df.BOROUGH == i+1]['SALE PRICE'].max()-\n",
    "                    df[df.BOROUGH == i+1]['SALE PRICE'].min())\n",
    "    print(\"BOROUGH - \",i+1,\"= \",arr_range[i])"
   ]
  },
  {
   "cell_type": "code",
   "execution_count": 29,
   "id": "6ccb1e99",
   "metadata": {},
   "outputs": [
    {
     "name": "stdout",
     "output_type": "stream",
     "text": [
      "BOROUGH -  1 =  582762827117124.1\n",
      "BOROUGH -  2 =  7803692804477.106\n",
      "BOROUGH -  3 =  15617607153086.766\n",
      "BOROUGH -  4 =  10416242290163.438\n",
      "BOROUGH -  5 =  3631099702626.528\n"
     ]
    }
   ],
   "source": [
    "arr_var=[]\n",
    "for i in range(df['BOROUGH'].max()):\n",
    "    arr_var.append(df[df.BOROUGH == i+1]['SALE PRICE'].var(ddof=1))\n",
    "    print(\"BOROUGH - \",i+1,\"= \",arr_var[i])"
   ]
  },
  {
   "cell_type": "code",
   "execution_count": 30,
   "id": "cef2f810",
   "metadata": {},
   "outputs": [
    {
     "name": "stdout",
     "output_type": "stream",
     "text": [
      "BOROUGH -  1 =  24140481.087110177\n",
      "BOROUGH -  2 =  2793509.0485762\n",
      "BOROUGH -  3 =  3951911.835186454\n",
      "BOROUGH -  4 =  3227420.377044713\n",
      "BOROUGH -  5 =  1905544.463565867\n"
     ]
    }
   ],
   "source": [
    "arr_sd=[]\n",
    "for i in range(df['BOROUGH'].max()):\n",
    "    arr_sd.append(df[df.BOROUGH == i+1]['SALE PRICE'].std(ddof=1))\n",
    "    print(\"BOROUGH - \",i+1,\"= \",arr_sd[i])"
   ]
  },
  {
   "cell_type": "code",
   "execution_count": 31,
   "id": "1df69e72",
   "metadata": {},
   "outputs": [
    {
     "name": "stderr",
     "output_type": "stream",
     "text": [
      "C:\\Users\\user\\anaconda3\\lib\\site-packages\\seaborn\\distributions.py:2619: FutureWarning: `distplot` is a deprecated function and will be removed in a future version. Please adapt your code to use either `displot` (a figure-level function with similar flexibility) or `histplot` (an axes-level function for histograms).\n",
      "  warnings.warn(msg, FutureWarning)\n"
     ]
    },
    {
     "data": {
      "text/plain": [
       "Text(0, 0.5, 'Probabilitas')"
      ]
     },
     "execution_count": 31,
     "metadata": {},
     "output_type": "execute_result"
    },
    {
     "data": {
      "image/png": "[encoded data removed]",
      "text/plain": [
       "<Figure size 432x288 with 1 Axes>"
      ]
     },
     "metadata": {
      "needs_background": "light"
     },
     "output_type": "display_data"
    }
   ],
   "source": [
    "import seaborn as sns\n",
    "import numpy as np\n",
    "import matplotlib.pyplot as plt\n",
    "%matplotlib inline\n",
    "\n",
    "sample_means=[]\n",
    "n = 25\n",
    "\n",
    "for sample in range (0,300):\n",
    "    sample_values = np.random.choice(a=df['SALE PRICE'], size=n)\n",
    "    sample_mean = np.mean(sample_values)\n",
    "    sample_means.append(sample_mean)\n",
    "    \n",
    "sns.distplot(sample_means, color=\"blue\")\n",
    "plt.xlabel(\"Price\", labelpad=14)\n",
    "plt.ylabel(\"Probabilitas\", labelpad=14)"
   ]
  },
  {
   "cell_type": "markdown",
   "id": "db1b02d7",
   "metadata": {},
   "source": [
    "# Mean, Median, Modus"
   ]
  },
  {
   "cell_type": "code",
   "execution_count": 32,
   "id": "8be23de0",
   "metadata": {},
   "outputs": [
    {
     "name": "stdout",
     "output_type": "stream",
     "text": [
      "Mean dari data Sale Price :  1280703.0003016938\n",
      "Mean dari data Land Square Feet :  3170.683192782335\n",
      "Mean dari data Gross Square Feet :  2952.1860876061314\n"
     ]
    }
   ],
   "source": [
    "mean_saleprice = statistics.mean(df['SALE PRICE'])\n",
    "mean_landsq = statistics.mean(df['LAND SQUARE FEET'])\n",
    "mean_grosssq = statistics.mean(df['GROSS SQUARE FEET'])\n",
    "print(\"Mean dari data Sale Price : \",mean_saleprice)\n",
    "print(\"Mean dari data Land Square Feet : \",mean_landsq)\n",
    "print(\"Mean dari data Gross Square Feet : \",mean_grosssq)"
   ]
  },
  {
   "cell_type": "code",
   "execution_count": 33,
   "id": "7cb28c41",
   "metadata": {},
   "outputs": [
    {
     "name": "stdout",
     "output_type": "stream",
     "text": [
      "Mean dari data Sale Price :  533000.0\n",
      "Mean dari data Land Square Feet :  2314.0\n",
      "Mean dari data Gross Square Feet :  1680.0\n"
     ]
    }
   ],
   "source": [
    "median_saleprice = statistics.median(df['SALE PRICE'])\n",
    "median_landsq = statistics.median(df['LAND SQUARE FEET'])\n",
    "median_grosssq = statistics.median(df['GROSS SQUARE FEET'])\n",
    "print(\"Mean dari data Sale Price : \",median_saleprice)\n",
    "print(\"Mean dari data Land Square Feet : \",median_landsq)\n",
    "print(\"Mean dari data Gross Square Feet : \",median_grosssq)"
   ]
  },
  {
   "cell_type": "code",
   "execution_count": 34,
   "id": "49d6228a",
   "metadata": {},
   "outputs": [
    {
     "name": "stdout",
     "output_type": "stream",
     "text": [
      "Mode Borough                         : 3\n",
      "Mode Neighborhood                    : FLUSHING-NORTH\n",
      "Mode Building Class Category         : 01 ONE FAMILY DWELLINGS                    \n",
      "Mode Building Class at Present       : D4\n"
     ]
    }
   ],
   "source": [
    "mode_borough            = statistics.mode(df['BOROUGH'])\n",
    "mode_Neighborhood       = statistics.mode(df['NEIGHBORHOOD'])\n",
    "mode_BuildClassCategory = statistics.mode(df['BUILDING CLASS CATEGORY'])\n",
    "mode_BuildClassAP       = statistics.mode(df['BUILDING CLASS AT PRESENT'])\n",
    "print(\"Mode Borough                         :\" , mode_borough)\n",
    "print(\"Mode Neighborhood                    :\" , mode_Neighborhood)\n",
    "print(\"Mode Building Class Category         :\" , mode_BuildClassCategory )\n",
    "print(\"Mode Building Class at Present       :\" , mode_BuildClassAP )"
   ]
  },
  {
   "cell_type": "markdown",
   "id": "d472e65d",
   "metadata": {},
   "source": [
    "# Range, Variance, Standard Deviation"
   ]
  },
  {
   "cell_type": "code",
   "execution_count": 35,
   "id": "6d80b503",
   "metadata": {},
   "outputs": [
    {
     "name": "stdout",
     "output_type": "stream",
     "text": [
      "Range dari Sale Price :  2210000000.0\n"
     ]
    }
   ],
   "source": [
    "range_saleprice = np.ptp(df['SALE PRICE'])\n",
    "print(\"Range dari Sale Price : \",range_saleprice)"
   ]
  },
  {
   "cell_type": "code",
   "execution_count": 36,
   "id": "249a88d2",
   "metadata": {},
   "outputs": [
    {
     "name": "stdout",
     "output_type": "stream",
     "text": [
      "Range dari Gross Square Feet :  3750565.0\n"
     ]
    }
   ],
   "source": [
    "range_grosssf = np.ptp(df['GROSS SQUARE FEET'])\n",
    "print(\"Range dari Gross Square Feet : \",range_grosssf)"
   ]
  },
  {
   "cell_type": "code",
   "execution_count": 37,
   "id": "8d773f33",
   "metadata": {},
   "outputs": [
    {
     "name": "stdout",
     "output_type": "stream",
     "text": [
      "Range dari Land Square Feet :  4252327.0\n"
     ]
    }
   ],
   "source": [
    "range_landsf = np.ptp(df['LAND SQUARE FEET'])\n",
    "print(\"Range dari Land Square Feet : \", range_landsf)"
   ]
  },
  {
   "cell_type": "code",
   "execution_count": 38,
   "id": "414f406a",
   "metadata": {},
   "outputs": [
    {
     "name": "stdout",
     "output_type": "stream",
     "text": [
      "varian dari data Sale Price :  130653226969398.58\n",
      "Varian dari data Land Square Feet :  1099472159.644855\n",
      "Varian dari data Gross Square Feet :  587699726.023771\n"
     ]
    }
   ],
   "source": [
    "var_saleprice = statistics.variance(df['SALE PRICE'])\n",
    "var_landsf = statistics.variance(df['LAND SQUARE FEET'])\n",
    "var_grosssf = statistics.variance(df['GROSS SQUARE FEET'])\n",
    "print(\"varian dari data Sale Price : \",var_saleprice)\n",
    "print(\"Varian dari data Land Square Feet : \",var_landsf)\n",
    "print(\"Varian dari data Gross Square Feet : \",var_grosssf)"
   ]
  },
  {
   "cell_type": "code",
   "execution_count": 39,
   "id": "04c93a38",
   "metadata": {},
   "outputs": [
    {
     "name": "stdout",
     "output_type": "stream",
     "text": [
      "Standar Deviasi dari data Sale Price :  11430364.253574712\n",
      "Standar Deviasi dari data Land Square Feet :  33158.28945595437\n",
      "Standar Deviasi dari data Gross Square Feet :  24242.518970267323\n"
     ]
    }
   ],
   "source": [
    "std_saleprice = statistics.stdev(df['SALE PRICE'])\n",
    "std_landsf = statistics.stdev(df['LAND SQUARE FEET'])\n",
    "std_grosssf = statistics.stdev(df['GROSS SQUARE FEET'])\n",
    "print(\"Standar Deviasi dari data Sale Price : \",std_saleprice)\n",
    "print(\"Standar Deviasi dari data Land Square Feet : \",std_landsf)\n",
    "print(\"Standar Deviasi dari data Gross Square Feet : \",std_grosssf)"
   ]
  },
  {
   "cell_type": "markdown",
   "id": "eace697b",
   "metadata": {},
   "source": [
    "# Probability Distribution"
   ]
  },
  {
   "cell_type": "markdown",
   "id": "bed2680b",
   "metadata": {},
   "source": [
    "## Normal Distribution"
   ]
  },
  {
   "cell_type": "code",
   "execution_count": 40,
   "id": "6d573604",
   "metadata": {},
   "outputs": [
    {
     "data": {
      "text/plain": [
       "<seaborn.axisgrid.FacetGrid at 0x1dbe006c850>"
      ]
     },
     "execution_count": 40,
     "metadata": {},
     "output_type": "execute_result"
    },
    {
     "data": {
      "image/png": "[encoded data removed]",
      "text/plain": [
       "<Figure size 360x360 with 1 Axes>"
      ]
     },
     "metadata": {
      "needs_background": "light"
     },
     "output_type": "display_data"
    }
   ],
   "source": [
    "sns.displot(df['SALE PRICE'], bins=40, rug=True)"
   ]
  },
  {
   "cell_type": "code",
   "execution_count": 41,
   "id": "dc191671",
   "metadata": {},
   "outputs": [],
   "source": [
    "df_saleprice = df[(df['SALE PRICE'] > 10000) & (df['SALE PRICE'] < 10000000)]"
   ]
  },
  {
   "cell_type": "code",
   "execution_count": 42,
   "id": "5370cb58",
   "metadata": {},
   "outputs": [
    {
     "data": {
      "text/plain": [
       "<seaborn.axisgrid.FacetGrid at 0x1dbdcebf9d0>"
      ]
     },
     "execution_count": 42,
     "metadata": {},
     "output_type": "execute_result"
    },
    {
     "data": {
      "image/png": "[encoded data removed]",
      "text/plain": [
       "<Figure size 360x360 with 1 Axes>"
      ]
     },
     "metadata": {
      "needs_background": "light"
     },
     "output_type": "display_data"
    }
   ],
   "source": [
    "sns.displot(df_saleprice['SALE PRICE'], bins=40, rug=True)"
   ]
  },
  {
   "cell_type": "markdown",
   "id": "63d6b906",
   "metadata": {},
   "source": [
    "Plot diatas sudah terlihat lebih baik daripada sebelumnya tetapi masih belum menunjukkan plot data yang terdistribusi normal. Oleh karena itu diperlukan normalisasi data dengan menggunakan transformasi. Transformasi yang digunakan yaitu transformasi log."
   ]
  },
  {
   "cell_type": "code",
   "execution_count": 43,
   "id": "0a25c99b",
   "metadata": {},
   "outputs": [
    {
     "name": "stderr",
     "output_type": "stream",
     "text": [
      "C:\\Users\\user\\AppData\\Local\\Temp\\ipykernel_11344\\3949304601.py:1: SettingWithCopyWarning: \n",
      "A value is trying to be set on a copy of a slice from a DataFrame.\n",
      "Try using .loc[row_indexer,col_indexer] = value instead\n",
      "\n",
      "See the caveats in the documentation: https://pandas.pydata.org/pandas-docs/stable/user_guide/indexing.html#returning-a-view-versus-a-copy\n",
      "  df_saleprice['LOG_PRICE'] = np.log(df_saleprice['SALE PRICE'])\n"
     ]
    }
   ],
   "source": [
    "df_saleprice['LOG_PRICE'] = np.log(df_saleprice['SALE PRICE'])"
   ]
  },
  {
   "cell_type": "code",
   "execution_count": 44,
   "id": "a3215840",
   "metadata": {},
   "outputs": [
    {
     "data": {
      "text/plain": [
       "<seaborn.axisgrid.FacetGrid at 0x1dbd555fd60>"
      ]
     },
     "execution_count": 44,
     "metadata": {},
     "output_type": "execute_result"
    },
    {
     "data": {
      "image/png": "[encoded data removed]",
      "text/plain": [
       "<Figure size 360x360 with 1 Axes>"
      ]
     },
     "metadata": {
      "needs_background": "light"
     },
     "output_type": "display_data"
    }
   ],
   "source": [
    "sns.displot(df_saleprice['LOG_PRICE'], bins=50)"
   ]
  },
  {
   "cell_type": "markdown",
   "id": "f82ae4df",
   "metadata": {},
   "source": [
    "Setelah ditransformasi, plot data sudah memenuhi karakteristik distribusi normal yaitu terlihat bahwa kurva bersifat simetris dengan bentuk lonceng (bell curve). Sehingga dapat disimpulkan data Sale Price dari 10.000 - 10.000.000 berdistribusi normal dengan transformasi log."
   ]
  },
  {
   "cell_type": "code",
   "execution_count": 45,
   "id": "be7099ba",
   "metadata": {},
   "outputs": [
    {
     "data": {
      "text/plain": [
       "<seaborn.axisgrid.FacetGrid at 0x1dbe5944e80>"
      ]
     },
     "execution_count": 45,
     "metadata": {},
     "output_type": "execute_result"
    },
    {
     "data": {
      "image/png": "[encoded data removed]",
      "text/plain": [
       "<Figure size 360x360 with 1 Axes>"
      ]
     },
     "metadata": {
      "needs_background": "light"
     },
     "output_type": "display_data"
    }
   ],
   "source": [
    "df_landsf = df[(df['LAND SQUARE FEET'] > 10000) & (df['LAND SQUARE FEET'] < 10000000)]\n",
    "sns.displot(df_landsf['LAND SQUARE FEET'], bins=40, rug=True)"
   ]
  },
  {
   "cell_type": "code",
   "execution_count": 46,
   "id": "090ce903",
   "metadata": {},
   "outputs": [
    {
     "name": "stderr",
     "output_type": "stream",
     "text": [
      "C:\\Users\\user\\AppData\\Local\\Temp\\ipykernel_11344\\1436157739.py:1: SettingWithCopyWarning: \n",
      "A value is trying to be set on a copy of a slice from a DataFrame.\n",
      "Try using .loc[row_indexer,col_indexer] = value instead\n",
      "\n",
      "See the caveats in the documentation: https://pandas.pydata.org/pandas-docs/stable/user_guide/indexing.html#returning-a-view-versus-a-copy\n",
      "  df_landsf['LOG_LAND'] = np.log(df_landsf['LAND SQUARE FEET'])\n"
     ]
    },
    {
     "data": {
      "text/plain": [
       "<seaborn.axisgrid.FacetGrid at 0x1dbe5d38430>"
      ]
     },
     "execution_count": 46,
     "metadata": {},
     "output_type": "execute_result"
    },
    {
     "data": {
      "image/png": "[encoded data removed]",
      "text/plain": [
       "<Figure size 360x360 with 1 Axes>"
      ]
     },
     "metadata": {
      "needs_background": "light"
     },
     "output_type": "display_data"
    }
   ],
   "source": [
    "df_landsf['LOG_LAND'] = np.log(df_landsf['LAND SQUARE FEET'])\n",
    "sns.displot(df_landsf['LOG_LAND'], bins=50)"
   ]
  },
  {
   "cell_type": "code",
   "execution_count": 47,
   "id": "5adb0779",
   "metadata": {},
   "outputs": [
    {
     "data": {
      "text/plain": [
       "<seaborn.axisgrid.FacetGrid at 0x1dbdffda5b0>"
      ]
     },
     "execution_count": 47,
     "metadata": {},
     "output_type": "execute_result"
    },
    {
     "data": {
      "image/png": "[encoded data removed]",
      "text/plain": [
       "<Figure size 360x360 with 1 Axes>"
      ]
     },
     "metadata": {
      "needs_background": "light"
     },
     "output_type": "display_data"
    }
   ],
   "source": [
    "df_grosssf = df[(df['GROSS SQUARE FEET'] > 10000) & (df['GROSS SQUARE FEET'] < 10000000)]\n",
    "sns.displot(df_grosssf['GROSS SQUARE FEET'], bins=40, rug=True)"
   ]
  },
  {
   "cell_type": "code",
   "execution_count": 48,
   "id": "59dceaf1",
   "metadata": {},
   "outputs": [
    {
     "name": "stderr",
     "output_type": "stream",
     "text": [
      "C:\\Users\\user\\AppData\\Local\\Temp\\ipykernel_11344\\1770270442.py:1: SettingWithCopyWarning: \n",
      "A value is trying to be set on a copy of a slice from a DataFrame.\n",
      "Try using .loc[row_indexer,col_indexer] = value instead\n",
      "\n",
      "See the caveats in the documentation: https://pandas.pydata.org/pandas-docs/stable/user_guide/indexing.html#returning-a-view-versus-a-copy\n",
      "  df_grosssf['LOG_GROSS'] = np.log(df_grosssf['GROSS SQUARE FEET'])\n"
     ]
    },
    {
     "data": {
      "text/plain": [
       "<seaborn.axisgrid.FacetGrid at 0x1dbe5e20eb0>"
      ]
     },
     "execution_count": 48,
     "metadata": {},
     "output_type": "execute_result"
    },
    {
     "data": {
      "image/png": "[encoded data removed]",
      "text/plain": [
       "<Figure size 360x360 with 1 Axes>"
      ]
     },
     "metadata": {
      "needs_background": "light"
     },
     "output_type": "display_data"
    }
   ],
   "source": [
    "df_grosssf['LOG_GROSS'] = np.log(df_grosssf['GROSS SQUARE FEET'])\n",
    "sns.displot(df_grosssf['LOG_GROSS'], bins=50)"
   ]
  },
  {
   "cell_type": "code",
   "execution_count": 49,
   "id": "6a4e8e02",
   "metadata": {},
   "outputs": [
    {
     "data": {
      "text/html": [
       "<div>\n",
       "<style scoped>\n",
       "    .dataframe tbody tr th:only-of-type {\n",
       "        vertical-align: middle;\n",
       "    }\n",
       "\n",
       "    .dataframe tbody tr th {\n",
       "        vertical-align: top;\n",
       "    }\n",
       "\n",
       "    .dataframe thead th {\n",
       "        text-align: right;\n",
       "    }\n",
       "</style>\n",
       "<table border=\"1\" class=\"dataframe\">\n",
       "  <thead>\n",
       "    <tr style=\"text-align: right;\">\n",
       "      <th></th>\n",
       "      <th>count</th>\n",
       "      <th>mean</th>\n",
       "      <th>std</th>\n",
       "      <th>min</th>\n",
       "      <th>25%</th>\n",
       "      <th>50%</th>\n",
       "      <th>75%</th>\n",
       "      <th>max</th>\n",
       "    </tr>\n",
       "    <tr>\n",
       "      <th>BOROUGH</th>\n",
       "      <th></th>\n",
       "      <th></th>\n",
       "      <th></th>\n",
       "      <th></th>\n",
       "      <th></th>\n",
       "      <th></th>\n",
       "      <th></th>\n",
       "      <th></th>\n",
       "    </tr>\n",
       "  </thead>\n",
       "  <tbody>\n",
       "    <tr>\n",
       "      <th>1</th>\n",
       "      <td>14374.0</td>\n",
       "      <td>3.344642e+06</td>\n",
       "      <td>2.414048e+07</td>\n",
       "      <td>1.0</td>\n",
       "      <td>660000.0</td>\n",
       "      <td>1155000.0</td>\n",
       "      <td>2461698.75</td>\n",
       "      <td>2.210000e+09</td>\n",
       "    </tr>\n",
       "    <tr>\n",
       "      <th>2</th>\n",
       "      <td>6994.0</td>\n",
       "      <td>5.946771e+05</td>\n",
       "      <td>2.793509e+06</td>\n",
       "      <td>0.0</td>\n",
       "      <td>0.0</td>\n",
       "      <td>274897.0</td>\n",
       "      <td>500000.00</td>\n",
       "      <td>1.100000e+08</td>\n",
       "    </tr>\n",
       "    <tr>\n",
       "      <th>3</th>\n",
       "      <td>23843.0</td>\n",
       "      <td>8.410834e+05</td>\n",
       "      <td>3.951912e+06</td>\n",
       "      <td>0.0</td>\n",
       "      <td>0.0</td>\n",
       "      <td>425605.0</td>\n",
       "      <td>938000.00</td>\n",
       "      <td>3.450000e+08</td>\n",
       "    </tr>\n",
       "    <tr>\n",
       "      <th>4</th>\n",
       "      <td>18410.0</td>\n",
       "      <td>7.388827e+05</td>\n",
       "      <td>3.227420e+06</td>\n",
       "      <td>1.0</td>\n",
       "      <td>285000.0</td>\n",
       "      <td>495000.0</td>\n",
       "      <td>775000.00</td>\n",
       "      <td>2.575000e+08</td>\n",
       "    </tr>\n",
       "    <tr>\n",
       "      <th>5</th>\n",
       "      <td>5986.0</td>\n",
       "      <td>5.436113e+05</td>\n",
       "      <td>1.905544e+06</td>\n",
       "      <td>1.0</td>\n",
       "      <td>325000.0</td>\n",
       "      <td>465000.0</td>\n",
       "      <td>600000.00</td>\n",
       "      <td>1.220000e+08</td>\n",
       "    </tr>\n",
       "  </tbody>\n",
       "</table>\n",
       "</div>"
      ],
      "text/plain": [
       "           count          mean           std  min       25%        50%  \\\n",
       "BOROUGH                                                                  \n",
       "1        14374.0  3.344642e+06  2.414048e+07  1.0  660000.0  1155000.0   \n",
       "2         6994.0  5.946771e+05  2.793509e+06  0.0       0.0   274897.0   \n",
       "3        23843.0  8.410834e+05  3.951912e+06  0.0       0.0   425605.0   \n",
       "4        18410.0  7.388827e+05  3.227420e+06  1.0  285000.0   495000.0   \n",
       "5         5986.0  5.436113e+05  1.905544e+06  1.0  325000.0   465000.0   \n",
       "\n",
       "                75%           max  \n",
       "BOROUGH                            \n",
       "1        2461698.75  2.210000e+09  \n",
       "2         500000.00  1.100000e+08  \n",
       "3         938000.00  3.450000e+08  \n",
       "4         775000.00  2.575000e+08  \n",
       "5         600000.00  1.220000e+08  "
      ]
     },
     "execution_count": 49,
     "metadata": {},
     "output_type": "execute_result"
    }
   ],
   "source": [
    "df.groupby(\"BOROUGH\")[\"SALE PRICE\"].describe()"
   ]
  },
  {
   "cell_type": "markdown",
   "id": "390e0a9c",
   "metadata": {},
   "source": [
    "# Confidence Intervals"
   ]
  },
  {
   "cell_type": "markdown",
   "id": "0c12ed72",
   "metadata": {},
   "source": [
    "## CI for the population proportion"
   ]
  },
  {
   "cell_type": "markdown",
   "id": "7699d4a9",
   "metadata": {},
   "source": [
    "Berdasarkan hasil data sebelumnya diperoleh rata-rata Sale Price untuk property di New York yaitu 1.280.703 dan wilayah yang paling sering muncul yaitu wilayah Brooklyn.\n",
    "\n",
    "Bagaimana CI untuk proporsi property terjual di wilayah Brooklyn?"
   ]
  },
  {
   "cell_type": "code",
   "execution_count": 50,
   "id": "049ae62f",
   "metadata": {},
   "outputs": [
    {
     "data": {
      "text/plain": [
       "0.025580948668524728"
      ]
     },
     "execution_count": 50,
     "metadata": {},
     "output_type": "execute_result"
    }
   ],
   "source": [
    "mean_brooklyn = 8.41\n",
    "sd = 3.95       \n",
    "n = 23843       \n",
    "z = 1.96\n",
    "se = sd/np.sqrt(n)\n",
    "se"
   ]
  },
  {
   "cell_type": "code",
   "execution_count": 51,
   "id": "6a13202b",
   "metadata": {},
   "outputs": [
    {
     "data": {
      "text/plain": [
       "(8.359861340609692, 8.460138659390308)"
      ]
     },
     "execution_count": 51,
     "metadata": {},
     "output_type": "execute_result"
    }
   ],
   "source": [
    "lowerlimit = mean_brooklyn-z*se #lower limit of the CI\n",
    "upperlimit = mean_brooklyn+z*se#upper limit of the CI\n",
    "lowerlimit,upperlimit "
   ]
  },
  {
   "cell_type": "markdown",
   "id": "e5629ce9",
   "metadata": {},
   "source": [
    "Dari perhitungan diperoleh Confidence interval untuk proporsi property di wilayah Brooklyn adalah di rentang 8.35 sampai 8.46."
   ]
  },
  {
   "cell_type": "markdown",
   "id": "3f28c0b8",
   "metadata": {},
   "source": [
    "# Hypothesis Testing"
   ]
  },
  {
   "cell_type": "markdown",
   "id": "4e380a67",
   "metadata": {},
   "source": [
    "## Difference in Population Means"
   ]
  },
  {
   "cell_type": "markdown",
   "id": "3da970bc",
   "metadata": {},
   "source": [
    "Apakah ada perbedaan residential unit yang terjual pada tahun 2005 - 2009 dan tahun 2010 ke atas?\n",
    "\n",
    "Population:\n",
    "- Total Units in NYC Property Sales data\n",
    "\n",
    "Parameter of Interest:\n",
    "- $\\mu_1 − \\mu_2$\n",
    "- Year Built\n",
    "\n",
    "Taraf signifikansi :\n",
    "- $\\alpha$ = 5% = 0.05\n",
    "\n",
    "Hypothesis :\n",
    "\n",
    "- $H_0$ (Null Hypothesis) : $\\mu_1 − \\mu_2$ (tidak terdapat perbedaan unit terjual antara property yang dibangun tahun 1900 - 2000 dan tahun 2001 ke atas)\n",
    "- $H_1$ (Alternative Hypthosis) : $\\mu_1 \\ne \\mu_2$ (terdapat perbedaan unit terjual antara property yang dibangun tahun 1900 - 2000 dan tahun 2001 ke atas)"
   ]
  },
  {
   "cell_type": "code",
   "execution_count": 52,
   "id": "64d83a39",
   "metadata": {},
   "outputs": [
    {
     "data": {
      "text/html": [
       "<div>\n",
       "<style scoped>\n",
       "    .dataframe tbody tr th:only-of-type {\n",
       "        vertical-align: middle;\n",
       "    }\n",
       "\n",
       "    .dataframe tbody tr th {\n",
       "        vertical-align: top;\n",
       "    }\n",
       "\n",
       "    .dataframe thead th {\n",
       "        text-align: right;\n",
       "    }\n",
       "</style>\n",
       "<table border=\"1\" class=\"dataframe\">\n",
       "  <thead>\n",
       "    <tr style=\"text-align: right;\">\n",
       "      <th></th>\n",
       "      <th>RESIDENTIAL UNITS</th>\n",
       "      <th>YEAR BUILT</th>\n",
       "    </tr>\n",
       "  </thead>\n",
       "  <tbody>\n",
       "    <tr>\n",
       "      <th>0</th>\n",
       "      <td>5</td>\n",
       "      <td>1900</td>\n",
       "    </tr>\n",
       "    <tr>\n",
       "      <th>3</th>\n",
       "      <td>10</td>\n",
       "      <td>1913</td>\n",
       "    </tr>\n",
       "    <tr>\n",
       "      <th>4</th>\n",
       "      <td>6</td>\n",
       "      <td>1900</td>\n",
       "    </tr>\n",
       "    <tr>\n",
       "      <th>6</th>\n",
       "      <td>8</td>\n",
       "      <td>1920</td>\n",
       "    </tr>\n",
       "    <tr>\n",
       "      <th>9</th>\n",
       "      <td>24</td>\n",
       "      <td>1920</td>\n",
       "    </tr>\n",
       "  </tbody>\n",
       "</table>\n",
       "</div>"
      ],
      "text/plain": [
       "   RESIDENTIAL UNITS  YEAR BUILT\n",
       "0                  5        1900\n",
       "3                 10        1913\n",
       "4                  6        1900\n",
       "6                  8        1920\n",
       "9                 24        1920"
      ]
     },
     "execution_count": 52,
     "metadata": {},
     "output_type": "execute_result"
    }
   ],
   "source": [
    "df_res = df[['RESIDENTIAL UNITS','YEAR BUILT']]\n",
    "df_res.head()"
   ]
  },
  {
   "cell_type": "code",
   "execution_count": 53,
   "id": "f428ac4e",
   "metadata": {},
   "outputs": [
    {
     "name": "stderr",
     "output_type": "stream",
     "text": [
      "C:\\Users\\user\\AppData\\Local\\Temp\\ipykernel_11344\\3152287889.py:1: SettingWithCopyWarning: \n",
      "A value is trying to be set on a copy of a slice from a DataFrame.\n",
      "Try using .loc[row_indexer,col_indexer] = value instead\n",
      "\n",
      "See the caveats in the documentation: https://pandas.pydata.org/pandas-docs/stable/user_guide/indexing.html#returning-a-view-versus-a-copy\n",
      "  df_res[\"YEAR BUILT\"] = df[\"YEAR BUILT\"].astype(\"int\")\n"
     ]
    },
    {
     "data": {
      "text/html": [
       "<div>\n",
       "<style scoped>\n",
       "    .dataframe tbody tr th:only-of-type {\n",
       "        vertical-align: middle;\n",
       "    }\n",
       "\n",
       "    .dataframe tbody tr th {\n",
       "        vertical-align: top;\n",
       "    }\n",
       "\n",
       "    .dataframe thead th {\n",
       "        text-align: right;\n",
       "    }\n",
       "</style>\n",
       "<table border=\"1\" class=\"dataframe\">\n",
       "  <thead>\n",
       "    <tr style=\"text-align: right;\">\n",
       "      <th></th>\n",
       "      <th>RESIDENTIAL UNITS</th>\n",
       "      <th>YEAR BUILT</th>\n",
       "    </tr>\n",
       "  </thead>\n",
       "  <tbody>\n",
       "    <tr>\n",
       "      <th>11</th>\n",
       "      <td>10</td>\n",
       "      <td>2009</td>\n",
       "    </tr>\n",
       "    <tr>\n",
       "      <th>129</th>\n",
       "      <td>1</td>\n",
       "      <td>2008</td>\n",
       "    </tr>\n",
       "    <tr>\n",
       "      <th>184</th>\n",
       "      <td>1</td>\n",
       "      <td>2006</td>\n",
       "    </tr>\n",
       "    <tr>\n",
       "      <th>186</th>\n",
       "      <td>1</td>\n",
       "      <td>2007</td>\n",
       "    </tr>\n",
       "    <tr>\n",
       "      <th>488</th>\n",
       "      <td>1</td>\n",
       "      <td>2007</td>\n",
       "    </tr>\n",
       "  </tbody>\n",
       "</table>\n",
       "</div>"
      ],
      "text/plain": [
       "     RESIDENTIAL UNITS  YEAR BUILT\n",
       "11                  10        2009\n",
       "129                  1        2008\n",
       "184                  1        2006\n",
       "186                  1        2007\n",
       "488                  1        2007"
      ]
     },
     "execution_count": 53,
     "metadata": {},
     "output_type": "execute_result"
    }
   ],
   "source": [
    "df_res[\"YEAR BUILT\"] = df[\"YEAR BUILT\"].astype(\"int\")\n",
    "df_pvalue1 = df_res[\n",
    "    (df_res['YEAR BUILT'] > 2005) &\n",
    "    (df_res['YEAR BUILT'] < 2010)]\n",
    "df_pvalue1.head()"
   ]
  },
  {
   "cell_type": "code",
   "execution_count": 54,
   "id": "5d750fb3",
   "metadata": {},
   "outputs": [
    {
     "data": {
      "text/html": [
       "<div>\n",
       "<style scoped>\n",
       "    .dataframe tbody tr th:only-of-type {\n",
       "        vertical-align: middle;\n",
       "    }\n",
       "\n",
       "    .dataframe tbody tr th {\n",
       "        vertical-align: top;\n",
       "    }\n",
       "\n",
       "    .dataframe thead th {\n",
       "        text-align: right;\n",
       "    }\n",
       "</style>\n",
       "<table border=\"1\" class=\"dataframe\">\n",
       "  <thead>\n",
       "    <tr style=\"text-align: right;\">\n",
       "      <th></th>\n",
       "      <th>RESIDENTIAL UNITS</th>\n",
       "      <th>YEAR BUILT</th>\n",
       "    </tr>\n",
       "  </thead>\n",
       "  <tbody>\n",
       "    <tr>\n",
       "      <th>95</th>\n",
       "      <td>1</td>\n",
       "      <td>2014</td>\n",
       "    </tr>\n",
       "    <tr>\n",
       "      <th>100</th>\n",
       "      <td>1</td>\n",
       "      <td>2014</td>\n",
       "    </tr>\n",
       "    <tr>\n",
       "      <th>104</th>\n",
       "      <td>1</td>\n",
       "      <td>2014</td>\n",
       "    </tr>\n",
       "    <tr>\n",
       "      <th>112</th>\n",
       "      <td>1</td>\n",
       "      <td>2014</td>\n",
       "    </tr>\n",
       "    <tr>\n",
       "      <th>133</th>\n",
       "      <td>1</td>\n",
       "      <td>2014</td>\n",
       "    </tr>\n",
       "  </tbody>\n",
       "</table>\n",
       "</div>"
      ],
      "text/plain": [
       "     RESIDENTIAL UNITS  YEAR BUILT\n",
       "95                   1        2014\n",
       "100                  1        2014\n",
       "104                  1        2014\n",
       "112                  1        2014\n",
       "133                  1        2014"
      ]
     },
     "execution_count": 54,
     "metadata": {},
     "output_type": "execute_result"
    }
   ],
   "source": [
    "df_pvalue2 = df_res[(df_res['YEAR BUILT'] > 2010)]\n",
    "df_pvalue2.head()"
   ]
  },
  {
   "cell_type": "code",
   "execution_count": 55,
   "id": "0817fa6d",
   "metadata": {},
   "outputs": [],
   "source": [
    "n1 = len(df_pvalue1)\n",
    "mu1 = df_pvalue1[\"RESIDENTIAL UNITS\"].mean()\n",
    "sd1 = df_pvalue1[\"RESIDENTIAL UNITS\"].std()\n",
    "n2 = len(df_pvalue2)\n",
    "mu2 = df_pvalue2[\"RESIDENTIAL UNITS\"].mean()\n",
    "sd2 = df_pvalue2[\"RESIDENTIAL UNITS\"].std()"
   ]
  },
  {
   "cell_type": "code",
   "execution_count": 56,
   "id": "6c42cc6a",
   "metadata": {},
   "outputs": [
    {
     "data": {
      "text/plain": [
       "(2982, 1.5808182427900739, 6.642649922163771)"
      ]
     },
     "execution_count": 56,
     "metadata": {},
     "output_type": "execute_result"
    }
   ],
   "source": [
    "(n1, mu1, sd1)"
   ]
  },
  {
   "cell_type": "code",
   "execution_count": 57,
   "id": "a7fc2dc5",
   "metadata": {},
   "outputs": [
    {
     "data": {
      "text/plain": [
       "(4139, 1.5426431505194491, 6.402505692354724)"
      ]
     },
     "execution_count": 57,
     "metadata": {},
     "output_type": "execute_result"
    }
   ],
   "source": [
    "(n2, mu2, sd2)"
   ]
  },
  {
   "cell_type": "code",
   "execution_count": 58,
   "id": "491b40a2",
   "metadata": {},
   "outputs": [
    {
     "data": {
      "text/plain": [
       "(0.244354920624127, 0.806955951776814)"
      ]
     },
     "execution_count": 58,
     "metadata": {},
     "output_type": "execute_result"
    }
   ],
   "source": [
    "sm.stats.ztest(df_pvalue1[\"RESIDENTIAL UNITS\"], df_pvalue2[\"RESIDENTIAL UNITS\"], alternative='two-sided')"
   ]
  },
  {
   "cell_type": "code",
   "execution_count": 59,
   "id": "3e45be62",
   "metadata": {
    "scrolled": true
   },
   "outputs": [
    {
     "data": {
      "text/plain": [
       "count         69607\n",
       "mean        1280703\n",
       "std        11430364\n",
       "min               0\n",
       "25%          230000\n",
       "50%          533000\n",
       "75%          950000\n",
       "max     -2147483648\n",
       "Name: SALE PRICE, dtype: int32"
      ]
     },
     "execution_count": 59,
     "metadata": {},
     "output_type": "execute_result"
    }
   ],
   "source": [
    "df['SALE PRICE'].describe().astype(int)"
   ]
  },
  {
   "cell_type": "code",
   "execution_count": 60,
   "id": "b74f97b8",
   "metadata": {},
   "outputs": [
    {
     "name": "stdout",
     "output_type": "stream",
     "text": [
      "Upper Boundary:  1365618.4206612557\n",
      "Lower Boundary:  1195787.5799421319\n"
     ]
    }
   ],
   "source": [
    "# Calculate confidence interval of 95%\n",
    "\n",
    "# CI components\n",
    "z_score = 1.96 # 95% confidence level\n",
    "mean_price = np.mean(df['SALE PRICE'])\n",
    "stdev_price = np.std(df['SALE PRICE'])\n",
    "size_price = np.size(df['SALE PRICE'])\n",
    "\n",
    "# Calculate boundary\n",
    "lcb = mean_price - z_score * stdev_price / np.sqrt(size_price)\n",
    "ucb = mean_price + z_score * stdev_price / np.sqrt(size_price)\n",
    "\n",
    "# Output\n",
    "print('Upper Boundary: ', ucb)\n",
    "print('Lower Boundary: ', lcb)"
   ]
  },
  {
   "cell_type": "markdown",
   "id": "30c8adca",
   "metadata": {},
   "source": [
    "# Conclusion"
   ]
  },
  {
   "cell_type": "markdown",
   "id": "970afd0e",
   "metadata": {},
   "source": [
    "Sehingga dapat diperolah suatu kesimpulan yaitu,\n",
    "\n",
    "Syarat penolakan $H_0$ :\n",
    "\n",
    "$H_0$ ditolak jika nilai $p_{value} < \\alpha$ = 0.05\n",
    "Keputusan :\n",
    "\n",
    "$H_0$ diterima karena nilai $p_{value} = 0.806955951776814 > \\alpha$ = 0.05\n",
    "Kesimpulan :\n",
    "\n",
    "Pada taraf signifikansi 5%, karena nilai $p_{value} = 0.806955951776814 > \\alpha$ = 0.05 maka kita dapat menerima H0 sehingga tidak terdapat perbedaan residential unit yang terjual pada tahun 2005 - 2009 dan tahun 2010 keatas (rata-rata residential unit yang terjual pada tahun 2005 - 2009 sama dengan property yang dibangun pada tahun 2010 keatas)"
   ]
  }
 ],
 "metadata": {
  "kernelspec": {
   "display_name": "Python 3 (ipykernel)",
   "language": "python",
   "name": "python3"
  },
  "language_info": {
   "codemirror_mode": {
    "name": "ipython",
    "version": 3
   },
   "file_extension": ".py",
   "mimetype": "text/x-python",
   "name": "python",
   "nbconvert_exporter": "python",
   "pygments_lexer": "ipython3",
   "version": "3.9.12"
  },
  "toc": {
   "base_numbering": "",
   "nav_menu": {},
   "number_sections": false,
   "sideBar": true,
   "skip_h1_title": false,
   "title_cell": "Table of Contents",
   "title_sidebar": "Contents",
   "toc_cell": false,
   "toc_position": {
    "height": "calc(100% - 180px)",
    "left": "10px",
    "top": "150px",
    "width": "294.55px"
   },
   "toc_section_display": true,
   "toc_window_display": true
  }
 },
 "nbformat": 4,
 "nbformat_minor": 5
}
